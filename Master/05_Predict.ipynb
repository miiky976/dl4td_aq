{
 "cells": [
  {
   "cell_type": "markdown",
   "id": "e029a9c4-bb5b-4218-bbb8-0e235783adfc",
   "metadata": {},
   "source": [
    "# Loading and testing the models?"
   ]
  },
  {
   "cell_type": "code",
   "execution_count": null,
   "id": "38bfd7e1-9b9d-4050-90e3-cf5d3b2ee422",
   "metadata": {},
   "outputs": [],
   "source": []
  }
 ],
 "metadata": {
  "kernelspec": {
   "display_name": "Python 3 (ipykernel)",
   "language": "python",
   "name": "python3"
  },
  "language_info": {
   "codemirror_mode": {
    "name": "ipython",
    "version": 3
   },
   "file_extension": ".py",
   "mimetype": "text/x-python",
   "name": "python",
   "nbconvert_exporter": "python",
   "pygments_lexer": "ipython3",
   "version": "3.12.3"
  }
 },
 "nbformat": 4,
 "nbformat_minor": 5
}
