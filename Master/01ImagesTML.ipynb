{
 "cells": [
  {
   "cell_type": "markdown",
   "id": "c080e1aa-01f5-4d22-977c-58d37a04fa06",
   "metadata": {},
   "source": [
    "# Generating images with TML base principles.\n",
    "This just insert text on the image, its like magic.\n",
    "\n",
    "I don't trust in magic.\n",
    "\n",
    "I like magic, but i don't trust."
   ]
  },
  {
   "cell_type": "code",
   "execution_count": 1,
   "id": "1a651720-8085-4225-9fb8-972fe37a17b4",
   "metadata": {},
   "outputs": [],
   "source": [
    "import numpy as np\n",
    "from PIL import Image, ImageDraw, ImageFont\n",
    "import sys\n",
    "import os\n",
    "from os.path import join\n",
    "import pandas as pd\n",
    "import re"
   ]
  },
  {
   "cell_type": "code",
   "execution_count": 2,
   "id": "a6ac655d-54cd-4c4f-9f49-b655c6403212",
   "metadata": {},
   "outputs": [],
   "source": [
    "from functools import *\n",
    "from concurrent.futures import ProcessPoolExecutor"
   ]
  },
  {
   "cell_type": "code",
   "execution_count": 3,
   "id": "ea3e43fb-febd-48be-a879-53ddc70f36ab",
   "metadata": {},
   "outputs": [],
   "source": [
    "data = pd.read_csv(\"data/set.csv\")\n",
    "targets = ['PT08.S1(CO)', 'PT08.S2(NMHC)', 'PT08.S3(NOx)', 'PT08.S4(NO2)', 'PT08.S5(O3)']"
   ]
  },
  {
   "cell_type": "markdown",
   "id": "75be2380-d9cb-43fe-8d0f-d5c1163c0212",
   "metadata": {},
   "source": [
    "## Testing the stolen methods :)\n",
    "The original methods are so good (for what they do).\n",
    "\n",
    "So i only have to adapt the methods to suit my info.\n",
    "\n",
    "And understand a bit about them."
   ]
  },
  {
   "cell_type": "code",
   "execution_count": 4,
   "id": "04c9fdd7-acdf-4de3-991f-4b3c686b5a9b",
   "metadata": {},
   "outputs": [],
   "source": [
    "# I'm not gonna use the targets list because this is only for testing purposes.\n",
    "train = data[['PT08.S2(NMHC)', 'PT08.S3(NOx)', \n",
    "            'PT08.S4(NO2)', 'PT08.S5(O3)', 'T', \n",
    "            'RH', 'AH', 'datetimestamp']]\n",
    "target = data['PT08.S1(CO)']"
   ]
  },
  {
   "cell_type": "markdown",
   "id": "51cd94fc-e3bc-4597-9df1-b8202dc323fc",
   "metadata": {},
   "source": [
    "### Text inside the image\n",
    "It's the worst, not by performance apparently, just because how it works."
   ]
  },
  {
   "cell_type": "code",
   "execution_count": 15,
   "id": "8d2f3273-deb4-4194-971b-95820d999cd4",
   "metadata": {},
   "outputs": [],
   "source": [
    "font = ImageFont.truetype('JetBrainsMonoNerdFont-Regular.ttf', 7)\n",
    "\n",
    "def textINimage(event:np.ndarray, size:int=224) -> Image.Image:\n",
    "    img = Image.fromarray(np.zeros([size,size,3]), 'RGB')\n",
    "    for i, f in enumerate(event):\n",
    "        x = ((1/4)+(i%2))*size//2.\n",
    "        y = (size//11)+((i//2)*2*size//len(event))\n",
    "        ImageDraw.Draw(img).text((x , y), f'{f:.1f}', fill=(255,255,255), font=font)\n",
    "    return img\n"
   ]
  },
  {
   "cell_type": "code",
   "execution_count": 17,
   "id": "debdfda7-d138-428a-827a-577e2957dc6f",
   "metadata": {},
   "outputs": [
    {
     "data": {
      "image/png": "[encoded data removed]",
      "text/plain": [
       "<PIL.Image.Image image mode=RGB size=100x100>"
      ]
     },
     "execution_count": 17,
     "metadata": {},
     "output_type": "execute_result"
    }
   ],
   "source": [
    "textINimage(train.values[0], size=100)#.save(\"image.png\")"
   ]
  },
  {
   "cell_type": "code",
   "execution_count": 18,
   "id": "6f3a32eb-9ab1-4a49-a592-734ca573cbaa",
   "metadata": {},
   "outputs": [
    {
     "data": {
      "image/png": "[encoded data removed]",
      "text/plain": [
       "<PIL.PngImagePlugin.PngImageFile image mode=RGB size=224x224>"
      ]
     },
     "execution_count": 18,
     "metadata": {},
     "output_type": "execute_result"
    }
   ],
   "source": [
    "Image.open(\"image.png\")\n",
    "# Just testing some things about the tensorflow methods :)"
   ]
  },
  {
   "cell_type": "markdown",
   "id": "34ee038b-0887-40cf-9dca-844d7bab6785",
   "metadata": {
    "jp-MarkdownHeadingCollapsed": true
   },
   "source": [
    "### Image as pixels (rectangle pixels?)"
   ]
  },
  {
   "cell_type": "code",
   "execution_count": 56,
   "id": "9793a2db-6f41-4ef1-ae5c-a1aa6f83610c",
   "metadata": {},
   "outputs": [],
   "source": [
    "def pixelINimage(event:np.ndarray, size:int=100) -> Image.Image:\n",
    "    arr = np.zeros([size,size], dtype=np.uint8)\n",
    "    width, height = size//2, 2*size//(len(event))\n",
    "    for i, f in enumerate(event):\n",
    "        arr[(i%2)*width:((i%2)+1)*width, (i//2)*height:((i+2)//2)*height] = f\n",
    "    img = Image.fromarray(np.broadcast_to(arr[:,:,None], [size,size,3]), 'RGB')\n",
    "    return img\n"
   ]
  },
  {
   "cell_type": "code",
   "execution_count": 61,
   "id": "133c291b-fae5-4902-bc2e-abb068a1663a",
   "metadata": {},
   "outputs": [
    {
     "data": {
      "image/png": "[encoded data removed]",
      "text/plain": [
       "<PIL.Image.Image image mode=RGB size=100x100>"
      ]
     },
     "execution_count": 61,
     "metadata": {},
     "output_type": "execute_result"
    }
   ],
   "source": [
    "pixelINimage(train.values[0])"
   ]
  },
  {
   "cell_type": "markdown",
   "id": "823209ed-7223-4c14-a101-81e17f1062e5",
   "metadata": {},
   "source": [
    "# There are 5 targets\n",
    "So I need to create more than one set of images.\n",
    "\n",
    "'PT08.S1(CO)', 'PT08.S2(NMHC)', 'PT08.S3(NOx)', 'PT08.S4(NO2)', 'PT08.S5(O3)'\n",
    "```\n",
    "images\n",
    "├── CO\n",
    "│   └── [index].png\n",
    "```\n",
    "\n",
    "The base logic of the original notebook, is a bit weird, because it includes a `train` path.\n",
    "\n",
    "is it ok to use a `ProcessPoolExecutor` to make it faster?\n",
    "\n",
    "Let's find out."
   ]
  },
  {
   "cell_type": "code",
   "execution_count": 19,
   "id": "e00a8840-f1b4-477e-b883-3ec401b7ab43",
   "metadata": {},
   "outputs": [],
   "source": [
    "def save_image(event:np.ndarray, name:str, func, loc:str, size:int=224) -> None:\n",
    "    func(event, size).save(join(loc,name))"
   ]
  },
  {
   "cell_type": "code",
   "execution_count": 20,
   "id": "8d4108b7-e422-4a11-a3f1-fbb226da36c4",
   "metadata": {},
   "outputs": [],
   "source": [
    "def Generate(df:pd.DataFrame, targets:list, func, path:str='imagesTML', size:int=224): \n",
    "    \n",
    "    for i in targets:\n",
    "        \n",
    "        # Create the directory for the image\n",
    "        name = re.search(r'\\((\\w+)\\)', i).group(1)\n",
    "        dir_path = join(path, func.__name__, name)\n",
    "        os.makedirs(dir_path, exist_ok=True)\n",
    "        \n",
    "        # create some df to handle each target and each train data\n",
    "        target = df[i]\n",
    "        train = df.drop(columns=i)\n",
    "        index = df.index.values\n",
    "        \n",
    "        # Generate the image\n",
    "        # Im gonna use ProcessPoolExecutor as the original notebook :)\n",
    "        # party = partial(save_image, func=func, loc=dir_path, size=size)\n",
    "        # with ProcessPoolExecutor(4) as e: \n",
    "        #     e.map(party, train.values, str(str(train.index.values) + \"_\" + str(target.values) + \".png\"))\n",
    "        # It didn't worked T-T\n",
    "        for j in index:\n",
    "            # name = str(j) + \"_\" + str(target.loc[j]) + \".png\n",
    "            name = \"{:04d}\".format(j) + \".png\"\n",
    "            save_image(train.loc[j].values, name, func=func, loc=dir_path, size=size)\n",
    "\n",
    "        print(\"Images created at\")\n",
    "        print(dir_path)\n",
    "\n",
    "        "
   ]
  },
  {
   "cell_type": "code",
   "execution_count": 21,
   "id": "347b6b40-76c6-44b9-a8c4-77b16a245672",
   "metadata": {},
   "outputs": [
    {
     "name": "stdout",
     "output_type": "stream",
     "text": [
      "Images created at\n",
      "imagesTML/textINimage/CO\n",
      "Images created at\n",
      "imagesTML/textINimage/NMHC\n",
      "Images created at\n",
      "imagesTML/textINimage/NOx\n",
      "Images created at\n",
      "imagesTML/textINimage/NO2\n",
      "Images created at\n",
      "imagesTML/textINimage/O3\n",
      "CPU times: user 25min 22s, sys: 6.03 s, total: 25min 28s\n",
      "Wall time: 25min 44s\n"
     ]
    }
   ],
   "source": [
    "%%time\n",
    "Generate(data.drop(columns=['DateTime']), targets, textINimage, size=100)"
   ]
  },
  {
   "cell_type": "markdown",
   "id": "2b41f47f-19f0-403e-9b7e-26c842911ffe",
   "metadata": {},
   "source": [
    "# Test stuff"
   ]
  },
  {
   "cell_type": "code",
   "execution_count": 10,
   "id": "26dd0ae9-95bd-41bf-88f1-c0e82d493dd2",
   "metadata": {},
   "outputs": [
    {
     "name": "stdout",
     "output_type": "stream",
     "text": [
      "0000\n"
     ]
    }
   ],
   "source": [
    "print(\"{:04d}\".format(0))"
   ]
  },
  {
   "cell_type": "code",
   "execution_count": null,
   "id": "9e32dffb-ee02-4826-aae2-58d2484356a1",
   "metadata": {},
   "outputs": [],
   "source": []
  }
 ],
 "metadata": {
  "kernelspec": {
   "display_name": "Python 3 (ipykernel)",
   "language": "python",
   "name": "python3"
  },
  "language_info": {
   "codemirror_mode": {
    "name": "ipython",
    "version": 3
   },
   "file_extension": ".py",
   "mimetype": "text/x-python",
   "name": "python",
   "nbconvert_exporter": "python",
   "pygments_lexer": "ipython3",
   "version": "3.12.3"
  }
 },
 "nbformat": 4,
 "nbformat_minor": 5
}
