{
 "cells": [
  {
   "cell_type": "markdown",
   "id": "f55ada3d-ff23-4625-8071-6f9ec6b0c8da",
   "metadata": {},
   "source": [
    "# I saw this in the book"
   ]
  },
  {
   "cell_type": "code",
   "execution_count": 53,
   "id": "89d5b95f-3462-482c-a66c-98d7543d720b",
   "metadata": {},
   "outputs": [],
   "source": [
    "import tensorflow as tf\n",
    "import numpy as np\n",
    "import pandas as pd\n",
    "import matplotlib.pyplot as plt\n",
    "import cv2\n",
    "\n",
    "from tensorflow.keras import layers\n",
    "from tensorflow.keras import models"
   ]
  },
  {
   "cell_type": "code",
   "execution_count": 9,
   "id": "0e638c32-80c1-4faf-9148-9a88fd41100f",
   "metadata": {},
   "outputs": [],
   "source": [
    "df = pd.read_csv(\"data/set.csv\").drop(columns=['DateTime'])\n",
    "df = df.reset_index()"
   ]
  },
  {
   "cell_type": "code",
   "execution_count": 72,
   "id": "5c30c4fa-649f-420a-ada1-ef72c3b9862e",
   "metadata": {},
   "outputs": [],
   "source": [
    "class MultiModal(tf.keras.utils.Sequence):\n",
    "    def __init__(self,\n",
    "                 imageCol, targetCol,\n",
    "                 tabularFeatures, oneHotFeatures,\n",
    "                 imageDir, df: pd.DataFrame,\n",
    "                 batchSize=8, trainSize=0.8):\n",
    "        self.batchSize = batchSize\n",
    "        self.imageDir = imageDir\n",
    "        self.imagePaths = df[imageCol]\n",
    "        self.targetCol = df[targetCol]\n",
    "        self.tabular = df.drop(columns=[imageCol, targetCol])#[tabularFeatures]\n",
    "        for feature in oneHotFeatures:\n",
    "            self.tabular = self.tabular.join(pd.get_dummies(self.tabular[feature]))\n",
    "            self.tabular.drop(feature, axis=1, inplace=True)\n",
    "        \n",
    "        self.dataSize = len(df)\n",
    "        self.trainSize = round(self.dataSize * trainSize)\n",
    "        \n",
    "        dataIndices = np.array(df.index)\n",
    "        self.trainInd = np.random.choice(dataIndices,\n",
    "                                         size = self.trainSize)\n",
    "        self.validInd = np.array([i for i in dataIndices if i not in self.trainInd])\n",
    "    def __len__(self): \n",
    "        return self.trainSize // self.batchSize\n",
    "    def __getitem__(self, index):\n",
    "        images, tabulars, y = [], [], []\n",
    "        for i in range(self.batchSize):\n",
    "            currIndex = index * self.batchSize + i\n",
    "            name = \"{:04d}\".format(self.imagePaths[currIndex])\n",
    "            imagePath = f'{self.imageDir}/{name}.png'\n",
    "            # image = cv2.resize(cv2.imread(imagePath), (100, 100))\n",
    "            image = cv2.imread(imagePath)\n",
    "            tabular = np.array(self.tabular.loc[currIndex])\n",
    "            target = self.targetCol[currIndex]\n",
    "            images.append(image)\n",
    "            tabulars.append(tabular)\n",
    "            y.append(target)\n",
    "        return [np.stack(images), np.stack(tabulars)], np.stack(y)\n"
   ]
  },
  {
   "cell_type": "code",
   "execution_count": 73,
   "id": "a734be82-189f-4cdd-9ddf-327ab319845c",
   "metadata": {},
   "outputs": [],
   "source": [
    "data = MultiModal(imageCol='index', targetCol='PT08.S1(CO)', \n",
    "                  tabularFeatures=['PT08.S2(NMHC)', 'PT08.S3(NOx)', 'PT08.S4(NO2)', 'PT08.S5(O3)', 'T', 'RH', 'AH', 'datetimestamp'],\n",
    "                  oneHotFeatures=['datetimestamp'],\n",
    "                  imageDir='imagesTML/textINimage/CO',\n",
    "                  df=df\n",
    "                 )"
   ]
  },
  {
   "cell_type": "code",
   "execution_count": 74,
   "id": "9372e48f-dc97-48e8-b48b-9b45f6590953",
   "metadata": {},
   "outputs": [
    {
     "name": "stdout",
     "output_type": "stream",
     "text": [
      "(8, 100, 100, 3)\n",
      "(8, 8452)\n",
      "(8,)\n",
      "           0\n",
      "0     1270.0\n",
      "1      806.0\n",
      "2     1739.0\n",
      "3     1113.0\n",
      "4       31.3\n",
      "...      ...\n",
      "8447   False\n",
      "8448   False\n",
      "8449   False\n",
      "8450   False\n",
      "8451   False\n",
      "\n",
      "[8452 rows x 1 columns]\n"
     ]
    },
    {
     "data": {
      "image/png": "[encoded data removed]",
      "text/plain": [
       "<Figure size 640x480 with 1 Axes>"
      ]
     },
     "metadata": {},
     "output_type": "display_data"
    }
   ],
   "source": [
    "x, y = data.__getitem__(111)\n",
    "print(x[0].shape)\n",
    "print(x[1].shape)\n",
    "print(y.shape)\n",
    "print(pd.DataFrame(x[1][0]))\n",
    "plt.imshow(x[0][0])\n",
    "plt.show()"
   ]
  },
  {
   "cell_type": "code",
   "execution_count": 56,
   "id": "4c490175-a90f-4ab5-8bf5-f6b6d8ec24ad",
   "metadata": {},
   "outputs": [],
   "source": [
    "imgInput = layers.Input((100, 100, 3))\n",
    "x = layers.Conv2D(8, (3, 3), activation='relu', padding='valid')(imgInput)\n",
    "for filters in [8, 8, 16, 16, 32, 32]:\n",
    "    x1 = layers.Conv2D(filters, (1, 1), activation='relu', padding='same')(x)\n",
    "    x2 = layers.Conv2D(filters, (3, 3), activation='relu', padding='same')(x)\n",
    "    x3a = layers.Conv2D(filters, (5, 5), activation='relu', padding='same')(x)\n",
    "    x3b = layers.Conv2D(filters, (3, 3), activation='relu', padding='same')(x)\n",
    "    add = layers.Add()([x1, x2, x3b])\n",
    "    x = layers.MaxPooling2D((2, 2))(add)\n",
    "flatten = layers.Flatten()(x)\n",
    "imgDense1 = layers.Dense(64, activation='relu')(flatten)\n",
    "imgDense2 = layers.Dense(32, activation='relu')(imgDense1)\n",
    "imgOut = layers.Dense(16, activation='relu')(imgDense2)\n",
    "\n",
    "tabularInput = layers.Input((8,))\n",
    "tabDense1 = layers.Dense(16, activation='relu')(tabularInput)\n",
    "tabDense2 = layers.Dense(16, activation='relu')(tabDense1)\n",
    "tabOut = layers.Dense(16, activation='relu')(tabDense2)\n",
    "\n",
    "concat = layers.Concatenate()([imgOut, tabOut])\n",
    "dense1 = layers.Dense(16, activation='relu')(concat)\n",
    "dense2 = layers.Dense(16, activation='relu')(dense1)\n",
    "out = layers.Dense(1, activation='relu')(dense2)\n",
    "\n",
    "model = models.Model(inputs = [imgInput, tabularInput],\n",
    "                           outputs = out)"
   ]
  },
  {
   "cell_type": "code",
   "execution_count": 50,
   "id": "e72f450c-9c1c-40d8-921b-380e790a52ea",
   "metadata": {},
   "outputs": [
    {
     "ename": "ValueError",
     "evalue": "Invalid dtype: object",
     "output_type": "error",
     "traceback": [
      "\u001b[0;31m---------------------------------------------------------------------------\u001b[0m",
      "\u001b[0;31mValueError\u001b[0m                                Traceback (most recent call last)",
      "Cell \u001b[0;32mIn[50], line 5\u001b[0m\n\u001b[1;32m      1\u001b[0m model\u001b[38;5;241m.\u001b[39mcompile(optimizer\u001b[38;5;241m=\u001b[39m\u001b[38;5;124m'\u001b[39m\u001b[38;5;124madam\u001b[39m\u001b[38;5;124m'\u001b[39m,\n\u001b[1;32m      2\u001b[0m               loss\u001b[38;5;241m=\u001b[39m\u001b[38;5;124m'\u001b[39m\u001b[38;5;124mmse\u001b[39m\u001b[38;5;124m'\u001b[39m,\n\u001b[1;32m      3\u001b[0m               metrics\u001b[38;5;241m=\u001b[39m[\u001b[38;5;124m'\u001b[39m\u001b[38;5;124mmae\u001b[39m\u001b[38;5;124m'\u001b[39m, \u001b[38;5;124m'\u001b[39m\u001b[38;5;124mmse\u001b[39m\u001b[38;5;124m'\u001b[39m])\n\u001b[0;32m----> 5\u001b[0m history \u001b[38;5;241m=\u001b[39m \u001b[43mmodel\u001b[49m\u001b[38;5;241;43m.\u001b[39;49m\u001b[43mfit\u001b[49m\u001b[43m(\u001b[49m\u001b[43mdata\u001b[49m\u001b[43m,\u001b[49m\u001b[43m \u001b[49m\u001b[43mepochs\u001b[49m\u001b[43m \u001b[49m\u001b[38;5;241;43m=\u001b[39;49m\u001b[43m \u001b[49m\u001b[38;5;241;43m100\u001b[39;49m\u001b[43m)\u001b[49m\n\u001b[1;32m      7\u001b[0m plt\u001b[38;5;241m.\u001b[39mfigure(figsize\u001b[38;5;241m=\u001b[39m(\u001b[38;5;241m10\u001b[39m, \u001b[38;5;241m5\u001b[39m), dpi\u001b[38;5;241m=\u001b[39m\u001b[38;5;241m400\u001b[39m)\n\u001b[1;32m      8\u001b[0m plt\u001b[38;5;241m.\u001b[39mplot(history\u001b[38;5;241m.\u001b[39mhistory[\u001b[38;5;124m'\u001b[39m\u001b[38;5;124mloss\u001b[39m\u001b[38;5;124m'\u001b[39m], color\u001b[38;5;241m=\u001b[39m\u001b[38;5;124m'\u001b[39m\u001b[38;5;124mred\u001b[39m\u001b[38;5;124m'\u001b[39m, label\u001b[38;5;241m=\u001b[39m\u001b[38;5;124m'\u001b[39m\u001b[38;5;124mTrain\u001b[39m\u001b[38;5;124m'\u001b[39m)\n",
      "File \u001b[0;32m~/progar/python/chamba/chamba/lib/python3.12/site-packages/keras/src/utils/traceback_utils.py:122\u001b[0m, in \u001b[0;36mfilter_traceback.<locals>.error_handler\u001b[0;34m(*args, **kwargs)\u001b[0m\n\u001b[1;32m    119\u001b[0m     filtered_tb \u001b[38;5;241m=\u001b[39m _process_traceback_frames(e\u001b[38;5;241m.\u001b[39m__traceback__)\n\u001b[1;32m    120\u001b[0m     \u001b[38;5;66;03m# To get the full stack trace, call:\u001b[39;00m\n\u001b[1;32m    121\u001b[0m     \u001b[38;5;66;03m# `keras.config.disable_traceback_filtering()`\u001b[39;00m\n\u001b[0;32m--> 122\u001b[0m     \u001b[38;5;28;01mraise\u001b[39;00m e\u001b[38;5;241m.\u001b[39mwith_traceback(filtered_tb) \u001b[38;5;28;01mfrom\u001b[39;00m \u001b[38;5;28;01mNone\u001b[39;00m\n\u001b[1;32m    123\u001b[0m \u001b[38;5;28;01mfinally\u001b[39;00m:\n\u001b[1;32m    124\u001b[0m     \u001b[38;5;28;01mdel\u001b[39;00m filtered_tb\n",
      "File \u001b[0;32m~/progar/python/chamba/chamba/lib/python3.12/site-packages/optree/ops.py:594\u001b[0m, in \u001b[0;36mtree_map\u001b[0;34m(func, tree, is_leaf, none_is_leaf, namespace, *rests)\u001b[0m\n\u001b[1;32m    592\u001b[0m leaves, treespec \u001b[38;5;241m=\u001b[39m _C\u001b[38;5;241m.\u001b[39mflatten(tree, is_leaf, none_is_leaf, namespace)\n\u001b[1;32m    593\u001b[0m flat_args \u001b[38;5;241m=\u001b[39m [leaves] \u001b[38;5;241m+\u001b[39m [treespec\u001b[38;5;241m.\u001b[39mflatten_up_to(r) \u001b[38;5;28;01mfor\u001b[39;00m r \u001b[38;5;129;01min\u001b[39;00m rests]\n\u001b[0;32m--> 594\u001b[0m \u001b[38;5;28;01mreturn\u001b[39;00m \u001b[43mtreespec\u001b[49m\u001b[38;5;241;43m.\u001b[39;49m\u001b[43munflatten\u001b[49m\u001b[43m(\u001b[49m\u001b[38;5;28;43mmap\u001b[39;49m\u001b[43m(\u001b[49m\u001b[43mfunc\u001b[49m\u001b[43m,\u001b[49m\u001b[43m \u001b[49m\u001b[38;5;241;43m*\u001b[39;49m\u001b[43mflat_args\u001b[49m\u001b[43m)\u001b[49m\u001b[43m)\u001b[49m\n",
      "\u001b[0;31mValueError\u001b[0m: Invalid dtype: object"
     ]
    }
   ],
   "source": [
    "model.compile(optimizer='adam',\n",
    "              loss='mse',\n",
    "              metrics=['mae', 'mse'])\n",
    "\n",
    "history = model.fit(data, epochs = 100)\n",
    "\n",
    "plt.figure(figsize=(10, 5), dpi=400)\n",
    "plt.plot(history.history['loss'], color='red', label='Train')\n",
    "plt.xlabel('Epochs')\n",
    "plt.ylabel('Loss')\n",
    "plt.legend()\n",
    "plt.grid()\n",
    "plt.show()\n"
   ]
  },
  {
   "cell_type": "markdown",
   "id": "a798d673-f695-479b-ac1d-6e8a65e44a2f",
   "metadata": {},
   "source": [
    "# Multi model with dataset"
   ]
  },
  {
   "cell_type": "code",
   "execution_count": null,
   "id": "d922b4c7-cd2a-4324-b4eb-1e01e2cd877c",
   "metadata": {},
   "outputs": [],
   "source": [
    "class MultiModalDataset(tf.keras.utils.Sequence):\n",
    "    \n",
    "    def __init__(self,\n",
    "                 imageCol, targetCol,\n",
    "                 tabularFeatures, embeddingFeature,\n",
    "                 imageDir, df: pd.DataFrame,\n",
    "                 batchSize=8, trainSize=0.8):\n",
    "        # there was the scale (i dont think i need that)\n",
    "        \n",
    "        self.batchSize = batchSize\n",
    "        self.imageDir = imageDir\n",
    "\n",
    "        # i choose to not create a df\n",
    "        self.imagePaths = df[imageCol]\n",
    "        self.targetCol = df[targetCol]\n",
    "        self.tabular = df.drop(columns=[imageCol, targetCol], axis=1)[tabularFeatures]\n",
    "        for feature in oneHotFeatures:\n",
    "            self.tabular = self.tabular.join(pd.get_dummies(self.tabular[feature]))\n",
    "            self.tabular.drop(feature, axis=1, inplace=True)\n",
    "        \n",
    "        self.dataSize = len(df)\n",
    "        self.trainSize = round(self.dataSize * trainSize)\n",
    "        \n",
    "        dataIndices = np.array(df.index)\n",
    "        self.trainInd = np.random.choice(dataIndices,\n",
    "                                         size = self.trainSize)\n",
    "        self.validInd = np.array([i for i in dataIndices if i not in self.trainInd])\n",
    "    def __len__(self): \n",
    "        return self.trainSize // self.batchSize\n",
    "    def __getitem__(self, index):\n",
    "        images, tabulars, y = [], [], []\n",
    "        for i in range(self.batchSize):\n",
    "            currIndex = index * self.batchSize + i\n",
    "            name = \"{:04d}\".format(self.imagePaths[currIndex])\n",
    "            imagePath = f'{self.imageDir}/{name}.png'\n",
    "            image = cv2.resize(cv2.imread(imagePath), (100, 100))\n",
    "            tabular = np.array(self.tabular.loc[currIndex])\n",
    "            target = self.targetCol[currIndex]\n",
    "            images.append(image)\n",
    "            tabulars.append(tabular)\n",
    "            y.append(target)\n",
    "        return [np.stack(), np.stack(tabulars)], np.stack(y)"
   ]
  },
  {
   "cell_type": "code",
   "execution_count": null,
   "id": "8f3aeadc-71e7-4a4b-8fbb-3f172eda3280",
   "metadata": {},
   "outputs": [],
   "source": []
  }
 ],
 "metadata": {
  "kernelspec": {
   "display_name": "Python 3 (ipykernel)",
   "language": "python",
   "name": "python3"
  },
  "language_info": {
   "codemirror_mode": {
    "name": "ipython",
    "version": 3
   },
   "file_extension": ".py",
   "mimetype": "text/x-python",
   "name": "python",
   "nbconvert_exporter": "python",
   "pygments_lexer": "ipython3",
   "version": "3.12.3"
  }
 },
 "nbformat": 4,
 "nbformat_minor": 5
}
