{
 "cells": [
  {
   "cell_type": "markdown",
   "id": "313164c0-2d69-4627-8850-2f22670fdf41",
   "metadata": {},
   "source": [
    "# CNN to train the model"
   ]
  },
  {
   "cell_type": "code",
   "execution_count": 5,
   "id": "dcd37dc7-cc90-4c05-bd4c-756fc7ff7156",
   "metadata": {},
   "outputs": [],
   "source": [
    "import tensorflow as tf\n",
    "from tensorflow.keras.models import Sequential\n",
    "from tensorflow.keras import layers\n",
    "from tensorflow import keras\n",
    "from sklearn.model_selection import train_test_split\n",
    "from tensorflow.keras.preprocessing.image import load_img, img_to_array\n",
    "from tensorflow.keras.preprocessing import image_dataset_from_directory as image_dataset \n",
    "\n",
    "import matplotlib.pyplot as plt\n",
    "import numpy as np\n",
    "import PIL\n",
    "import pandas as pd\n",
    "import pathlib\n",
    "import os"
   ]
  },
  {
   "cell_type": "code",
   "execution_count": 6,
   "id": "db83602a-5045-4ff7-b0b3-9d82b6dea280",
   "metadata": {},
   "outputs": [
    {
     "data": {
      "text/html": [
       "<div>\n",
       "<style scoped>\n",
       "    .dataframe tbody tr th:only-of-type {\n",
       "        vertical-align: middle;\n",
       "    }\n",
       "\n",
       "    .dataframe tbody tr th {\n",
       "        vertical-align: top;\n",
       "    }\n",
       "\n",
       "    .dataframe thead th {\n",
       "        text-align: right;\n",
       "    }\n",
       "</style>\n",
       "<table border=\"1\" class=\"dataframe\">\n",
       "  <thead>\n",
       "    <tr style=\"text-align: right;\">\n",
       "      <th></th>\n",
       "      <th>PT08.S1(CO)</th>\n",
       "      <th>PT08.S2(NMHC)</th>\n",
       "      <th>PT08.S3(NOx)</th>\n",
       "      <th>PT08.S4(NO2)</th>\n",
       "      <th>PT08.S5(O3)</th>\n",
       "      <th>T</th>\n",
       "      <th>RH</th>\n",
       "      <th>AH</th>\n",
       "      <th>datetimestamp</th>\n",
       "    </tr>\n",
       "  </thead>\n",
       "  <tbody>\n",
       "    <tr>\n",
       "      <th>0</th>\n",
       "      <td>1360.0</td>\n",
       "      <td>1046.0</td>\n",
       "      <td>1056.0</td>\n",
       "      <td>1692.0</td>\n",
       "      <td>1268.0</td>\n",
       "      <td>13.6</td>\n",
       "      <td>48.9</td>\n",
       "      <td>0.7578</td>\n",
       "      <td>299706</td>\n",
       "    </tr>\n",
       "    <tr>\n",
       "      <th>1</th>\n",
       "      <td>1292.0</td>\n",
       "      <td>955.0</td>\n",
       "      <td>1174.0</td>\n",
       "      <td>1559.0</td>\n",
       "      <td>972.0</td>\n",
       "      <td>13.3</td>\n",
       "      <td>47.7</td>\n",
       "      <td>0.7255</td>\n",
       "      <td>299707</td>\n",
       "    </tr>\n",
       "    <tr>\n",
       "      <th>2</th>\n",
       "      <td>1402.0</td>\n",
       "      <td>939.0</td>\n",
       "      <td>1140.0</td>\n",
       "      <td>1555.0</td>\n",
       "      <td>1074.0</td>\n",
       "      <td>11.9</td>\n",
       "      <td>54.0</td>\n",
       "      <td>0.7502</td>\n",
       "      <td>299708</td>\n",
       "    </tr>\n",
       "    <tr>\n",
       "      <th>3</th>\n",
       "      <td>1376.0</td>\n",
       "      <td>948.0</td>\n",
       "      <td>1092.0</td>\n",
       "      <td>1584.0</td>\n",
       "      <td>1203.0</td>\n",
       "      <td>11.0</td>\n",
       "      <td>60.0</td>\n",
       "      <td>0.7867</td>\n",
       "      <td>299709</td>\n",
       "    </tr>\n",
       "    <tr>\n",
       "      <th>4</th>\n",
       "      <td>1272.0</td>\n",
       "      <td>836.0</td>\n",
       "      <td>1205.0</td>\n",
       "      <td>1490.0</td>\n",
       "      <td>1110.0</td>\n",
       "      <td>11.2</td>\n",
       "      <td>59.6</td>\n",
       "      <td>0.7888</td>\n",
       "      <td>299710</td>\n",
       "    </tr>\n",
       "    <tr>\n",
       "      <th>...</th>\n",
       "      <td>...</td>\n",
       "      <td>...</td>\n",
       "      <td>...</td>\n",
       "      <td>...</td>\n",
       "      <td>...</td>\n",
       "      <td>...</td>\n",
       "      <td>...</td>\n",
       "      <td>...</td>\n",
       "      <td>...</td>\n",
       "    </tr>\n",
       "    <tr>\n",
       "      <th>8440</th>\n",
       "      <td>1314.0</td>\n",
       "      <td>1101.0</td>\n",
       "      <td>539.0</td>\n",
       "      <td>1374.0</td>\n",
       "      <td>1729.0</td>\n",
       "      <td>21.9</td>\n",
       "      <td>29.3</td>\n",
       "      <td>0.7568</td>\n",
       "      <td>309058</td>\n",
       "    </tr>\n",
       "    <tr>\n",
       "      <th>8441</th>\n",
       "      <td>1163.0</td>\n",
       "      <td>1027.0</td>\n",
       "      <td>604.0</td>\n",
       "      <td>1264.0</td>\n",
       "      <td>1269.0</td>\n",
       "      <td>24.3</td>\n",
       "      <td>23.7</td>\n",
       "      <td>0.7119</td>\n",
       "      <td>309059</td>\n",
       "    </tr>\n",
       "    <tr>\n",
       "      <th>8442</th>\n",
       "      <td>1142.0</td>\n",
       "      <td>1063.0</td>\n",
       "      <td>603.0</td>\n",
       "      <td>1241.0</td>\n",
       "      <td>1092.0</td>\n",
       "      <td>26.9</td>\n",
       "      <td>18.3</td>\n",
       "      <td>0.6406</td>\n",
       "      <td>309060</td>\n",
       "    </tr>\n",
       "    <tr>\n",
       "      <th>8443</th>\n",
       "      <td>1003.0</td>\n",
       "      <td>961.0</td>\n",
       "      <td>702.0</td>\n",
       "      <td>1041.0</td>\n",
       "      <td>770.0</td>\n",
       "      <td>28.3</td>\n",
       "      <td>13.5</td>\n",
       "      <td>0.5139</td>\n",
       "      <td>309061</td>\n",
       "    </tr>\n",
       "    <tr>\n",
       "      <th>8444</th>\n",
       "      <td>1071.0</td>\n",
       "      <td>1047.0</td>\n",
       "      <td>654.0</td>\n",
       "      <td>1129.0</td>\n",
       "      <td>816.0</td>\n",
       "      <td>28.5</td>\n",
       "      <td>13.1</td>\n",
       "      <td>0.5028</td>\n",
       "      <td>309062</td>\n",
       "    </tr>\n",
       "  </tbody>\n",
       "</table>\n",
       "<p>8445 rows × 9 columns</p>\n",
       "</div>"
      ],
      "text/plain": [
       "      PT08.S1(CO)  PT08.S2(NMHC)  PT08.S3(NOx)  PT08.S4(NO2)  PT08.S5(O3)  \\\n",
       "0          1360.0         1046.0        1056.0        1692.0       1268.0   \n",
       "1          1292.0          955.0        1174.0        1559.0        972.0   \n",
       "2          1402.0          939.0        1140.0        1555.0       1074.0   \n",
       "3          1376.0          948.0        1092.0        1584.0       1203.0   \n",
       "4          1272.0          836.0        1205.0        1490.0       1110.0   \n",
       "...           ...            ...           ...           ...          ...   \n",
       "8440       1314.0         1101.0         539.0        1374.0       1729.0   \n",
       "8441       1163.0         1027.0         604.0        1264.0       1269.0   \n",
       "8442       1142.0         1063.0         603.0        1241.0       1092.0   \n",
       "8443       1003.0          961.0         702.0        1041.0        770.0   \n",
       "8444       1071.0         1047.0         654.0        1129.0        816.0   \n",
       "\n",
       "         T    RH      AH  datetimestamp  \n",
       "0     13.6  48.9  0.7578         299706  \n",
       "1     13.3  47.7  0.7255         299707  \n",
       "2     11.9  54.0  0.7502         299708  \n",
       "3     11.0  60.0  0.7867         299709  \n",
       "4     11.2  59.6  0.7888         299710  \n",
       "...    ...   ...     ...            ...  \n",
       "8440  21.9  29.3  0.7568         309058  \n",
       "8441  24.3  23.7  0.7119         309059  \n",
       "8442  26.9  18.3  0.6406         309060  \n",
       "8443  28.3  13.5  0.5139         309061  \n",
       "8444  28.5  13.1  0.5028         309062  \n",
       "\n",
       "[8445 rows x 9 columns]"
      ]
     },
     "execution_count": 6,
     "metadata": {},
     "output_type": "execute_result"
    }
   ],
   "source": [
    "data = pd.read_csv('data/set.csv').drop(columns=['DateTime'])\n",
    "data"
   ]
  },
  {
   "cell_type": "markdown",
   "id": "6c5130f3-7633-4fcc-a502-2ef523b4a104",
   "metadata": {},
   "source": [
    "## Results method"
   ]
  },
  {
   "cell_type": "code",
   "execution_count": 3,
   "id": "ceafb9d2-d62c-4126-8c46-528b568ca131",
   "metadata": {},
   "outputs": [],
   "source": [
    "results = pd.DataFrame(columns=['Model', 'mse', 'mae', 'rmse', 'mape', 'r2'])\n",
    "from sklearn.metrics import mean_squared_error\n",
    "from sklearn.metrics import mean_absolute_error\n",
    "from sklearn.metrics import root_mean_squared_error\n",
    "from sklearn.metrics import mean_absolute_percentage_error\n",
    "from sklearn.metrics import r2_score\n",
    "\n",
    "\n",
    "def appendError(model, testy, y_pred):\n",
    "    model_name = str(type(model).__name__)\n",
    "    mse = mean_squared_error(testy, y_pred)\n",
    "    mae = mean_absolute_error(testy, y_pred)\n",
    "    rmse = root_mean_squared_error(testy, y_pred)\n",
    "    mape = mean_absolute_percentage_error(testy, y_pred)\n",
    "    r2 = r2_score(testy, y_pred)\n",
    "    return pd.DataFrame([{\n",
    "        'Model': model_name,\n",
    "        'mse': mse, \n",
    "        'mae': mae, \n",
    "        'mae': mae, \n",
    "        'rmse': rmse, \n",
    "        'mape': mape, \n",
    "        'r2': r2\n",
    "    }])"
   ]
  },
  {
   "cell_type": "markdown",
   "id": "d5bb917e-c98f-4a9c-9ae5-7a9a57ebd881",
   "metadata": {},
   "source": [
    "# Image dataset?"
   ]
  },
  {
   "cell_type": "code",
   "execution_count": 7,
   "id": "a820f981-5183-4dbd-b092-54135608c041",
   "metadata": {},
   "outputs": [],
   "source": [
    "batch = 32\n",
    "image_size = 224\n",
    "data_dir = pathlib.Path('./imagesTML/textINimage/CO/').with_suffix('')\n",
    "data_dir.glob\n",
    "shuffle = False\n",
    "seed = 123123\n",
    "split = 0.2"
   ]
  },
  {
   "cell_type": "code",
   "execution_count": 31,
   "id": "fe2c4e99-aeef-4acd-9095-561fd4187ae3",
   "metadata": {},
   "outputs": [
    {
     "name": "stdout",
     "output_type": "stream",
     "text": [
      "Found 8445 files belonging to 1 classes.\n",
      "Using 6756 files for training.\n",
      "Using 1689 files for validation.\n"
     ]
    },
    {
     "data": {
      "text/plain": [
       "<_PrefetchDataset element_spec=TensorSpec(shape=(None, 224, 224, 1), dtype=tf.float32, name=None)>"
      ]
     },
     "execution_count": 31,
     "metadata": {},
     "output_type": "execute_result"
    }
   ],
   "source": [
    "train_ds, val_ds = image_dataset(\n",
    "    data_dir,\n",
    "    validation_split=split,\n",
    "    subset='both',\n",
    "    seed=seed,\n",
    "    labels=None,\n",
    "    label_mode='int',\n",
    "    image_size=(image_size, image_size),\n",
    "    color_mode='grayscale',\n",
    "    shuffle=shuffle\n",
    ")\n",
    "val_ds"
   ]
  },
  {
   "cell_type": "code",
   "execution_count": 27,
   "id": "7fdfbb0d-9251-41d4-8905-b50faa9ee1dd",
   "metadata": {},
   "outputs": [
    {
     "data": {
      "text/plain": [
       "6756    1176.0\n",
       "6757    1147.0\n",
       "6758    1294.0\n",
       "6759    1256.0\n",
       "6760    1205.0\n",
       "         ...  \n",
       "8440    1314.0\n",
       "8441    1163.0\n",
       "8442    1142.0\n",
       "8443    1003.0\n",
       "8444    1071.0\n",
       "Name: PT08.S1(CO), Length: 1689, dtype: float64"
      ]
     },
     "execution_count": 27,
     "metadata": {},
     "output_type": "execute_result"
    }
   ],
   "source": [
    "X = data.drop(columns=['PT08.S1(CO)'])\n",
    "y = data['PT08.S1(CO)']\n",
    "X_train, X_val, y_train, y_val = train_test_split(\n",
    "    X, y, \n",
    "    random_state=seed, \n",
    "    test_size=split, \n",
    "    shuffle=shuffle\n",
    ")\n",
    "y_val"
   ]
  },
  {
   "cell_type": "code",
   "execution_count": 9,
   "id": "18c3f247-6b7f-4e6d-a8c7-6295ea6318e5",
   "metadata": {},
   "outputs": [
    {
     "data": {
      "image/png": "[encoded data removed]",
      "text/plain": [
       "<Figure size 640x480 with 1 Axes>"
      ]
     },
     "metadata": {},
     "output_type": "display_data"
    }
   ],
   "source": [
    "for images in val_ds.take(1):\n",
    "    # Plot the first image from the batch\n",
    "    plt.figure()\n",
    "    plt.imshow(images[0].numpy())  # Convert to numpy array and display as image\n",
    "    plt.axis('off')  # Hide axis\n",
    "    plt.show()\n"
   ]
  },
  {
   "cell_type": "markdown",
   "id": "19757c4d-53d9-4441-a2ae-24a780e609e8",
   "metadata": {},
   "source": [
    "## Model"
   ]
  },
  {
   "cell_type": "code",
   "execution_count": 36,
   "id": "ebd4c849-d665-4d36-8d2e-cdb7552b841e",
   "metadata": {},
   "outputs": [],
   "source": [
    "model = Sequential([\n",
    "    layers.Rescaling(1./255, input_shape=(image_size, image_size, 3)),\n",
    "    layers.Conv2D(16, 3, padding='same', activation='relu'),\n",
    "    layers.MaxPooling2D(),\n",
    "    layers.Conv2D(32, 3, padding='same', activation='relu'),\n",
    "    layers.MaxPooling2D(),\n",
    "    layers.Conv2D(64, 3, padding='same', activation='relu'),\n",
    "    layers.MaxPooling2D(),\n",
    "    layers.Flatten(),\n",
    "    layers.Dense(128, activation='relu'),\n",
    "    layers.Dense(1)\n",
    "])"
   ]
  },
  {
   "cell_type": "code",
   "execution_count": 37,
   "id": "bc43e424-8e66-41aa-b3bb-88bada852560",
   "metadata": {},
   "outputs": [],
   "source": [
    "model.compile(optimizer='adam',\n",
    "              loss=tf.keras.losses.mean_squared_error,\n",
    "              metrics=['mse'])\n"
   ]
  },
  {
   "cell_type": "code",
   "execution_count": 38,
   "id": "621a3598-821b-4765-869a-1ad8605fd56e",
   "metadata": {},
   "outputs": [],
   "source": [
    "y_ds = tf.data.Dataset.from_tensor_slices(y_train.values)\n",
    "train_dataset = tf.data.Dataset.zip((train_ds, y_ds))\n",
    "\n",
    "y_ds_val =  tf.data.Dataset.from_tensor_slices(y_val.values)\n",
    "val_dataset = tf.data.Dataset.zip((val_ds, y_ds_val))"
   ]
  },
  {
   "cell_type": "code",
   "execution_count": 39,
   "id": "4fe73769-8408-41ff-aabd-7e4d9de12eac",
   "metadata": {},
   "outputs": [
    {
     "name": "stdout",
     "output_type": "stream",
     "text": [
      "Epoch 1/50\n"
     ]
    },
    {
     "ename": "ValueError",
     "evalue": "in user code:\n\n    File \"/home/miiky/progar/python/chamba/.venv/lib/python3.11/site-packages/keras/src/engine/training.py\", line 1401, in train_function  *\n        return step_function(self, iterator)\n    File \"/home/miiky/progar/python/chamba/.venv/lib/python3.11/site-packages/keras/src/engine/training.py\", line 1384, in step_function  **\n        outputs = model.distribute_strategy.run(run_step, args=(data,))\n    File \"/home/miiky/progar/python/chamba/.venv/lib/python3.11/site-packages/keras/src/engine/training.py\", line 1373, in run_step  **\n        outputs = model.train_step(data)\n    File \"/home/miiky/progar/python/chamba/.venv/lib/python3.11/site-packages/keras/src/engine/training.py\", line 1150, in train_step\n        y_pred = self(x, training=True)\n    File \"/home/miiky/progar/python/chamba/.venv/lib/python3.11/site-packages/keras/src/utils/traceback_utils.py\", line 70, in error_handler\n        raise e.with_traceback(filtered_tb) from None\n    File \"/home/miiky/progar/python/chamba/.venv/lib/python3.11/site-packages/keras/src/engine/input_spec.py\", line 280, in assert_input_compatibility\n        raise ValueError(\n\n    ValueError: Exception encountered when calling layer 'sequential_4' (type Sequential).\n    \n    Input 0 of layer \"conv2d_12\" is incompatible with the layer: expected axis -1 of input shape to have value 3, but received input with shape (None, 224, 224, 1)\n    \n    Call arguments received by layer 'sequential_4' (type Sequential):\n      • inputs=tf.Tensor(shape=(None, 224, 224, 1), dtype=float32)\n      • training=True\n      • mask=None\n",
     "output_type": "error",
     "traceback": [
      "\u001b[0;31m---------------------------------------------------------------------------\u001b[0m",
      "\u001b[0;31mValueError\u001b[0m                                Traceback (most recent call last)",
      "Cell \u001b[0;32mIn[39], line 1\u001b[0m\n\u001b[0;32m----> 1\u001b[0m history \u001b[38;5;241m=\u001b[39m \u001b[43mmodel\u001b[49m\u001b[38;5;241;43m.\u001b[39;49m\u001b[43mfit\u001b[49m\u001b[43m(\u001b[49m\n\u001b[1;32m      2\u001b[0m \u001b[43m  \u001b[49m\u001b[43mtrain_dataset\u001b[49m\u001b[43m,\u001b[49m\n\u001b[1;32m      3\u001b[0m \u001b[43m  \u001b[49m\u001b[43mvalidation_data\u001b[49m\u001b[38;5;241;43m=\u001b[39;49m\u001b[43mval_dataset\u001b[49m\u001b[43m,\u001b[49m\n\u001b[1;32m      4\u001b[0m \u001b[43m  \u001b[49m\u001b[43mepochs\u001b[49m\u001b[38;5;241;43m=\u001b[39;49m\u001b[38;5;241;43m50\u001b[39;49m\n\u001b[1;32m      5\u001b[0m \u001b[43m)\u001b[49m\n",
      "File \u001b[0;32m~/progar/python/chamba/.venv/lib/python3.11/site-packages/keras/src/utils/traceback_utils.py:70\u001b[0m, in \u001b[0;36mfilter_traceback.<locals>.error_handler\u001b[0;34m(*args, **kwargs)\u001b[0m\n\u001b[1;32m     67\u001b[0m     filtered_tb \u001b[38;5;241m=\u001b[39m _process_traceback_frames(e\u001b[38;5;241m.\u001b[39m__traceback__)\n\u001b[1;32m     68\u001b[0m     \u001b[38;5;66;03m# To get the full stack trace, call:\u001b[39;00m\n\u001b[1;32m     69\u001b[0m     \u001b[38;5;66;03m# `tf.debugging.disable_traceback_filtering()`\u001b[39;00m\n\u001b[0;32m---> 70\u001b[0m     \u001b[38;5;28;01mraise\u001b[39;00m e\u001b[38;5;241m.\u001b[39mwith_traceback(filtered_tb) \u001b[38;5;28;01mfrom\u001b[39;00m \u001b[38;5;28;01mNone\u001b[39;00m\n\u001b[1;32m     71\u001b[0m \u001b[38;5;28;01mfinally\u001b[39;00m:\n\u001b[1;32m     72\u001b[0m     \u001b[38;5;28;01mdel\u001b[39;00m filtered_tb\n",
      "File \u001b[0;32m/tmp/__autograph_generated_filel2zt7cm9.py:15\u001b[0m, in \u001b[0;36mouter_factory.<locals>.inner_factory.<locals>.tf__train_function\u001b[0;34m(iterator)\u001b[0m\n\u001b[1;32m     13\u001b[0m \u001b[38;5;28;01mtry\u001b[39;00m:\n\u001b[1;32m     14\u001b[0m     do_return \u001b[38;5;241m=\u001b[39m \u001b[38;5;28;01mTrue\u001b[39;00m\n\u001b[0;32m---> 15\u001b[0m     retval_ \u001b[38;5;241m=\u001b[39m ag__\u001b[38;5;241m.\u001b[39mconverted_call(ag__\u001b[38;5;241m.\u001b[39mld(step_function), (ag__\u001b[38;5;241m.\u001b[39mld(\u001b[38;5;28mself\u001b[39m), ag__\u001b[38;5;241m.\u001b[39mld(iterator)), \u001b[38;5;28;01mNone\u001b[39;00m, fscope)\n\u001b[1;32m     16\u001b[0m \u001b[38;5;28;01mexcept\u001b[39;00m:\n\u001b[1;32m     17\u001b[0m     do_return \u001b[38;5;241m=\u001b[39m \u001b[38;5;28;01mFalse\u001b[39;00m\n",
      "\u001b[0;31mValueError\u001b[0m: in user code:\n\n    File \"/home/miiky/progar/python/chamba/.venv/lib/python3.11/site-packages/keras/src/engine/training.py\", line 1401, in train_function  *\n        return step_function(self, iterator)\n    File \"/home/miiky/progar/python/chamba/.venv/lib/python3.11/site-packages/keras/src/engine/training.py\", line 1384, in step_function  **\n        outputs = model.distribute_strategy.run(run_step, args=(data,))\n    File \"/home/miiky/progar/python/chamba/.venv/lib/python3.11/site-packages/keras/src/engine/training.py\", line 1373, in run_step  **\n        outputs = model.train_step(data)\n    File \"/home/miiky/progar/python/chamba/.venv/lib/python3.11/site-packages/keras/src/engine/training.py\", line 1150, in train_step\n        y_pred = self(x, training=True)\n    File \"/home/miiky/progar/python/chamba/.venv/lib/python3.11/site-packages/keras/src/utils/traceback_utils.py\", line 70, in error_handler\n        raise e.with_traceback(filtered_tb) from None\n    File \"/home/miiky/progar/python/chamba/.venv/lib/python3.11/site-packages/keras/src/engine/input_spec.py\", line 280, in assert_input_compatibility\n        raise ValueError(\n\n    ValueError: Exception encountered when calling layer 'sequential_4' (type Sequential).\n    \n    Input 0 of layer \"conv2d_12\" is incompatible with the layer: expected axis -1 of input shape to have value 3, but received input with shape (None, 224, 224, 1)\n    \n    Call arguments received by layer 'sequential_4' (type Sequential):\n      • inputs=tf.Tensor(shape=(None, 224, 224, 1), dtype=float32)\n      • training=True\n      • mask=None\n"
     ]
    }
   ],
   "source": [
    "history = model.fit(\n",
    "  train_dataset,\n",
    "  validation_data=val_dataset,\n",
    "  epochs=50\n",
    ")\n"
   ]
  },
  {
   "cell_type": "code",
   "execution_count": 26,
   "id": "ef288a8c-6500-4465-a03f-597359346cb3",
   "metadata": {},
   "outputs": [
    {
     "data": {
      "image/png": "[encoded data removed]",
      "text/plain": [
       "<Figure size 640x480 with 1 Axes>"
      ]
     },
     "metadata": {},
     "output_type": "display_data"
    },
    {
     "name": "stdout",
     "output_type": "stream",
     "text": [
      "tf.Tensor(1176.0, shape=(), dtype=float64)\n"
     ]
    }
   ],
   "source": [
    "for images, target in val_dataset.take(1):\n",
    "    # Plot the first image from the batch\n",
    "    plt.figure()\n",
    "    plt.imshow(images[0].numpy())  # Convert to numpy array and display as image\n",
    "    plt.axis('off')  # Hide axis\n",
    "    plt.show()\n",
    "    print(target)"
   ]
  },
  {
   "cell_type": "markdown",
   "id": "3f7fff8c-ca44-4ce2-bf42-06e27ed9e663",
   "metadata": {
    "jp-MarkdownHeadingCollapsed": true
   },
   "source": [
    "# Model with arrays\n",
    "The image dataset doesn't seems to work for me T-T."
   ]
  },
  {
   "cell_type": "markdown",
   "id": "89bc9714-5850-448b-8eb5-4b776d25c1ed",
   "metadata": {
    "jp-MarkdownHeadingCollapsed": true
   },
   "source": [
    "## Image loading"
   ]
  },
  {
   "cell_type": "code",
   "execution_count": 48,
   "id": "a1b2da1f-e058-491d-89d6-91acb426fa7b",
   "metadata": {},
   "outputs": [],
   "source": [
    "def preprocess_image(image_path):\n",
    "    img = load_img(image_path)\n",
    "    \n",
    "    img_array = img_to_array(img)\n",
    "    \n",
    "    return img_array"
   ]
  },
  {
   "cell_type": "code",
   "execution_count": 43,
   "id": "feac9e88-0bab-4eaf-9cbd-61261403ec05",
   "metadata": {},
   "outputs": [],
   "source": [
    "images = []\n",
    "target = data['PT08.S1(CO)']\n",
    "\n",
    "# get all the images (i dont know too much about this process)\n",
    "datadir = 'imagesTML/textINimage/CO/'"
   ]
  },
  {
   "cell_type": "code",
   "execution_count": 49,
   "id": "42f1d712-59fd-453e-a370-fe159b1ef871",
   "metadata": {
    "scrolled": true
   },
   "outputs": [],
   "source": [
    "for image in os.listdir(datadir):\n",
    "    if image == '.ipynb_checkpoint':\n",
    "        continue\n",
    "    img = preprocess_image(os.path.join(datadir, image))\n",
    "    images.append(img)"
   ]
  },
  {
   "cell_type": "code",
   "execution_count": 50,
   "id": "25858cea-c4eb-4386-b1b1-9387b6d51922",
   "metadata": {},
   "outputs": [],
   "source": [
    "images = np.array(images)\n",
    "target = np.array(target)"
   ]
  },
  {
   "cell_type": "markdown",
   "id": "53b7f204-a605-41b3-89e2-3ba6c3178897",
   "metadata": {
    "jp-MarkdownHeadingCollapsed": true
   },
   "source": [
    "## Model Creation"
   ]
  },
  {
   "cell_type": "code",
   "execution_count": 53,
   "id": "53cb9e8d-06eb-40d5-aad2-c24cb29e1989",
   "metadata": {},
   "outputs": [],
   "source": [
    "model = Sequential([\n",
    "    layers.Input(shape=images.shape[1:]),\n",
    "    layers.Conv2D(64, (5,5), activation='relu'),\n",
    "    layers.Conv2D(32, (3,3), activation='relu'),\n",
    "    layers.MaxPooling2D((2,2)),\n",
    "    layers.Conv2D(16, (3,3), activation='relu'),\n",
    "    layers.Conv2D(16, (2,2), activation='relu'),\n",
    "    layers.Flatten(),\n",
    "    layers.Dense(32, activation='relu', kernel_regularizer=tf.keras.regularizers.l2(0.01)),\n",
    "    layers.Dense(8, activation='sigmoid', kernel_regularizer=tf.keras.regularizers.l2(0.01)),\n",
    "    layers.Dropout(0.2),\n",
    "    layers.Dense(16, activation='relu', kernel_regularizer=tf.keras.regularizers.l2(0.01)),\n",
    "    layers.Dropout(0.2),\n",
    "    layers.Dense(32, activation='elu', kernel_regularizer=tf.keras.regularizers.l2(0.01)),\n",
    "    layers.Dropout(0.2),\n",
    "    layers.Dense(16, activation='relu', kernel_regularizer=tf.keras.regularizers.l2(0.01)),\n",
    "    layers.Dense(8, activation='selu', kernel_regularizer=tf.keras.regularizers.l2(0.01)),\n",
    "    layers.Dense(1)\n",
    "])"
   ]
  },
  {
   "cell_type": "code",
   "execution_count": 54,
   "id": "a16e7bec-13d2-42b8-8823-2ff7232180db",
   "metadata": {},
   "outputs": [],
   "source": [
    "X_train, X_test, y_train, y_test = train_test_split(images, target, test_size=0.2, random_state=42)\n",
    "X_train, X_val, y_train, y_val = train_test_split(X_train, y_train, test_size=0.2, random_state=42)"
   ]
  },
  {
   "cell_type": "code",
   "execution_count": null,
   "id": "52db1170-be31-490a-a885-55eefc97b258",
   "metadata": {},
   "outputs": [
    {
     "name": "stderr",
     "output_type": "stream",
     "text": [
      "2024-04-18 20:53:35.420724: W external/local_tsl/tsl/framework/cpu_allocator_impl.cc:83] Allocation of 3253813248 exceeds 10% of free system memory.\n"
     ]
    },
    {
     "name": "stdout",
     "output_type": "stream",
     "text": [
      "Epoch 1/50\n"
     ]
    },
    {
     "name": "stderr",
     "output_type": "stream",
     "text": [
      "2024-04-18 20:53:41.524062: W external/local_tsl/tsl/framework/cpu_allocator_impl.cc:83] Allocation of 396492800 exceeds 10% of free system memory.\n",
      "2024-04-18 20:53:41.774503: W external/local_tsl/tsl/framework/cpu_allocator_impl.cc:83] Allocation of 194658304 exceeds 10% of free system memory.\n",
      "2024-04-18 20:53:42.591818: W external/local_tsl/tsl/framework/cpu_allocator_impl.cc:83] Allocation of 194658304 exceeds 10% of free system memory.\n",
      "2024-04-18 20:53:42.740606: W external/local_tsl/tsl/framework/cpu_allocator_impl.cc:83] Allocation of 396492800 exceeds 10% of free system memory.\n"
     ]
    },
    {
     "name": "stdout",
     "output_type": "stream",
     "text": [
      "169/169 [==============================] - 813s 5s/step - loss: 1125184.8750 - val_loss: 672600.8750\n",
      "Epoch 2/50\n",
      "169/169 [==============================] - 826s 5s/step - loss: 175449.1250 - val_loss: 38335.7344\n",
      "Epoch 3/50\n",
      "169/169 [==============================] - 822s 5s/step - loss: 101043.1484 - val_loss: 43881.3438\n",
      "Epoch 4/50\n",
      "169/169 [==============================] - 826s 5s/step - loss: 94647.9844 - val_loss: 39346.5000\n",
      "Epoch 5/50\n",
      "169/169 [==============================] - 853s 5s/step - loss: 83124.8203 - val_loss: 41204.2031\n",
      "Epoch 6/50\n",
      "169/169 [==============================] - 802s 5s/step - loss: 79954.4531 - val_loss: 39629.6758\n",
      "Epoch 7/50\n",
      "169/169 [==============================] - 852s 5s/step - loss: 72169.5469 - val_loss: 42751.8477\n",
      "Epoch 8/50\n",
      "169/169 [==============================] - 805s 5s/step - loss: 67860.5312 - val_loss: 43956.6875\n",
      "Epoch 9/50\n",
      "169/169 [==============================] - ETA: 0s - loss: 64342.9102"
     ]
    }
   ],
   "source": [
    "model.compile(optimizer='adam', loss='mean_squared_error')\n",
    "model.fit(X_train, y_train, epochs=50, batch_size=32, validation_data=(X_val, y_val))"
   ]
  },
  {
   "cell_type": "code",
   "execution_count": null,
   "id": "95c23104-8559-4400-8909-80cb4066d8c1",
   "metadata": {},
   "outputs": [],
   "source": [
    "y_pred = model.predict(X_test)\n",
    "results = pd.concat([results, appendError(model, y_test, y_pred)])"
   ]
  },
  {
   "cell_type": "code",
   "execution_count": null,
   "id": "2027dfbc-229a-4ce9-9008-c0edcc80e605",
   "metadata": {},
   "outputs": [],
   "source": []
  }
 ],
 "metadata": {
  "kernelspec": {
   "display_name": "Python 3 (ipykernel)",
   "language": "python",
   "name": "python3"
  },
  "language_info": {
   "codemirror_mode": {
    "name": "ipython",
    "version": 3
   },
   "file_extension": ".py",
   "mimetype": "text/x-python",
   "name": "python",
   "nbconvert_exporter": "python",
   "pygments_lexer": "ipython3",
   "version": "3.11.8"
  }
 },
 "nbformat": 4,
 "nbformat_minor": 5
}
