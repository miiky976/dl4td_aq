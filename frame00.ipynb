{
 "cells": [
  {
   "cell_type": "code",
   "execution_count": 1,
   "metadata": {},
   "outputs": [],
   "source": [
    "import cv2\n",
    "import os"
   ]
  },
  {
   "cell_type": "code",
   "execution_count": 31,
   "metadata": {},
   "outputs": [
    {
     "data": {
      "text/plain": [
       "40"
      ]
     },
     "execution_count": 31,
     "metadata": {},
     "output_type": "execute_result"
    }
   ],
   "source": [
    "oput = \"whole.avi\"\n",
    "fps = 24\n",
    "frame_size = (800, 800)\n",
    "directory = './imgs'\n",
    "\n",
    "scale = 800 // 20\n",
    "\n",
    "video_w = cv2.VideoWriter(oput, cv2.VideoWriter_fourcc(*'MJPG'), fps, frame_size)\n",
    "\n",
    "scale"
   ]
  },
  {
   "cell_type": "code",
   "execution_count": 33,
   "metadata": {},
   "outputs": [
    {
     "name": "stdout",
     "output_type": "stream",
     "text": [
      "00\n",
      "Failed to read file: ./imgs/00/.ipynb_checkpoints\n",
      "01\n",
      "02\n",
      "03\n",
      "Failed to read file: ./imgs/03/.ipynb_checkpoints\n",
      "04\n",
      "05\n",
      "06\n",
      "El video se ha guardado como 'whole.avi'\n"
     ]
    }
   ],
   "source": [
    "for i in sorted(os.listdir(directory)):\n",
    "    print(i)\n",
    "    for j in os.listdir(directory+\"/\"+i):\n",
    "        file = os.path.join(directory, i, j)\n",
    "        \n",
    "        img = cv2.imread(file)\n",
    "        \n",
    "        if img is None:\n",
    "            print(\"Failed to read file:\", file)\n",
    "            continue\n",
    "\n",
    "\n",
    "        img_resized = cv2.resize(img, (img.shape[1] * scale, img.shape[0] * scale), interpolation=cv2.INTER_NEAREST)\n",
    "\n",
    "        video_w.write(img_resized)\n",
    "\n",
    "video_w.release()\n",
    "\n",
    "print(f\"El video se ha guardado como '{oput}'\")"
   ]
  },
  {
   "cell_type": "code",
   "execution_count": 30,
   "metadata": {},
   "outputs": [
    {
     "ename": "NameError",
     "evalue": "name 'image' is not defined",
     "output_type": "error",
     "traceback": [
      "\u001b[0;31m---------------------------------------------------------------------------\u001b[0m",
      "\u001b[0;31mNameError\u001b[0m                                 Traceback (most recent call last)",
      "Cell \u001b[0;32mIn[30], line 6\u001b[0m\n\u001b[1;32m      3\u001b[0m fps \u001b[38;5;241m=\u001b[39m \u001b[38;5;241m10\u001b[39m \n\u001b[1;32m      4\u001b[0m frame_size \u001b[38;5;241m=\u001b[39m (\u001b[38;5;241m640\u001b[39m, \u001b[38;5;241m480\u001b[39m) \n\u001b[0;32m----> 6\u001b[0m video_writer \u001b[38;5;241m=\u001b[39m cv2\u001b[38;5;241m.\u001b[39mVideoWriter(output_video, (\u001b[43mimage\u001b[49m\u001b[38;5;241m.\u001b[39mshape[\u001b[38;5;241m1\u001b[39m] \u001b[38;5;241m*\u001b[39m scale, image\u001b[38;5;241m.\u001b[39mshape[\u001b[38;5;241m0\u001b[39m] \u001b[38;5;241m*\u001b[39m scale), cv2\u001b[38;5;241m.\u001b[39mVideoWriter_fourcc(\u001b[38;5;241m*\u001b[39m\u001b[38;5;124m'\u001b[39m\u001b[38;5;124mMJPG\u001b[39m\u001b[38;5;124m'\u001b[39m), fps, frame_size)\n\u001b[1;32m      8\u001b[0m \u001b[38;5;28;01mfor\u001b[39;00m filename \u001b[38;5;129;01min\u001b[39;00m file_list:\n\u001b[1;32m     10\u001b[0m     img \u001b[38;5;241m=\u001b[39m cv2\u001b[38;5;241m.\u001b[39mimread(os\u001b[38;5;241m.\u001b[39mpath\u001b[38;5;241m.\u001b[39mjoin(directory, filename))\n",
      "\u001b[0;31mNameError\u001b[0m: name 'image' is not defined"
     ]
    }
   ],
   "source": [
    "output_video = '00.avi'\n",
    "\n",
    "fps = 10 \n",
    "frame_size = (640, 480) \n",
    "\n",
    "video_writer = cv2.VideoWriter(output_video, cv2.VideoWriter_fourcc(*'MJPG'), fps, frame_size)\n",
    "\n",
    "for filename in file_list:\n",
    "\n",
    "    img = cv2.imread(os.path.join(directory, filename))\n",
    "\n",
    "    img_resized = cv2.resize(img, frame_size, interpolation=cv2.INTER_LINEAR)\n",
    "\n",
    "    video_writer.write(img_resized)\n",
    "\n",
    "video_writer.release()\n",
    "\n",
    "print(f\"El video se ha guardado como '{output_video}'\")"
   ]
  },
  {
   "cell_type": "code",
   "execution_count": null,
   "metadata": {},
   "outputs": [],
   "source": []
  }
 ],
 "metadata": {
  "kernelspec": {
   "display_name": "Python 3 (ipykernel)",
   "language": "python",
   "name": "python3"
  },
  "language_info": {
   "codemirror_mode": {
    "name": "ipython",
    "version": 3
   },
   "file_extension": ".py",
   "mimetype": "text/x-python",
   "name": "python",
   "nbconvert_exporter": "python",
   "pygments_lexer": "ipython3",
   "version": "3.11.8"
  }
 },
 "nbformat": 4,
 "nbformat_minor": 4
}
