{
 "cells": [
  {
   "cell_type": "markdown",
   "id": "a3793a79-09a0-412b-951c-4511108a07a2",
   "metadata": {
    "jp-MarkdownHeadingCollapsed": true
   },
   "source": [
    "# Data process"
   ]
  },
  {
   "cell_type": "code",
   "execution_count": 7,
   "id": "343762e6-c4bd-4012-94da-029462b892b8",
   "metadata": {},
   "outputs": [],
   "source": [
    "import pandas as pd\n",
    "import numpy as np\n",
    "from PIL import Image, ImageDraw, ImageFont\n",
    "import sys\n",
    "import os\n",
    "from os.path import join\n",
    "import pandas as pd\n",
    "import re\n",
    "from sklearn.model_selection import train_test_split"
   ]
  },
  {
   "cell_type": "code",
   "execution_count": 2,
   "id": "c05bf76a-4c82-474c-9cb4-52a06ee714bd",
   "metadata": {},
   "outputs": [
    {
     "name": "stdout",
     "output_type": "stream",
     "text": [
      "<class 'pandas.core.frame.DataFrame'>\n",
      "RangeIndex: 3276 entries, 0 to 3275\n",
      "Data columns (total 10 columns):\n",
      " #   Column           Non-Null Count  Dtype  \n",
      "---  ------           --------------  -----  \n",
      " 0   ph               3276 non-null   float64\n",
      " 1   Hardness         3276 non-null   float64\n",
      " 2   Solids           3276 non-null   float64\n",
      " 3   Chloramines      3276 non-null   float64\n",
      " 4   Sulfate          3276 non-null   float64\n",
      " 5   Conductivity     3276 non-null   float64\n",
      " 6   Organic_carbon   3276 non-null   float64\n",
      " 7   Trihalomethanes  3276 non-null   float64\n",
      " 8   Turbidity        3276 non-null   float64\n",
      " 9   Potability       3276 non-null   int64  \n",
      "dtypes: float64(9), int64(1)\n",
      "memory usage: 256.1 KB\n"
     ]
    }
   ],
   "source": [
    "df = pd.read_csv('set.csv')\n",
    "df.info()"
   ]
  },
  {
   "cell_type": "code",
   "execution_count": 3,
   "id": "8450382a-4efb-47c7-b97a-8c4a5eafdb95",
   "metadata": {},
   "outputs": [
    {
     "name": "stdout",
     "output_type": "stream",
     "text": [
      "<class 'pandas.core.frame.DataFrame'>\n",
      "RangeIndex: 3276 entries, 0 to 3275\n",
      "Data columns (total 10 columns):\n",
      " #   Column           Non-Null Count  Dtype  \n",
      "---  ------           --------------  -----  \n",
      " 0   ph               3276 non-null   float64\n",
      " 1   Hardness         3276 non-null   float64\n",
      " 2   Solids           3276 non-null   float64\n",
      " 3   Chloramines      3276 non-null   float64\n",
      " 4   Sulfate          3276 non-null   float64\n",
      " 5   Conductivity     3276 non-null   float64\n",
      " 6   Organic_carbon   3276 non-null   float64\n",
      " 7   Trihalomethanes  3276 non-null   float64\n",
      " 8   Turbidity        3276 non-null   float64\n",
      " 9   Potability       3276 non-null   int64  \n",
      "dtypes: float64(9), int64(1)\n",
      "memory usage: 256.1 KB\n"
     ]
    }
   ],
   "source": [
    "df = df.dropna()\n",
    "df.info()"
   ]
  },
  {
   "cell_type": "markdown",
   "id": "b0d0d761-eba8-47fb-a9ee-56715f85790f",
   "metadata": {},
   "source": [
    "# Images?"
   ]
  },
  {
   "cell_type": "markdown",
   "id": "fa0c0692-cb8a-4489-b3e7-5587df2e757c",
   "metadata": {
    "jp-MarkdownHeadingCollapsed": true
   },
   "source": [
    "## for image_dataset_from_directory"
   ]
  },
  {
   "cell_type": "code",
   "execution_count": 32,
   "id": "a0fcbd46-ce08-4572-8f16-d71cbf111d28",
   "metadata": {},
   "outputs": [],
   "source": [
    "font = ImageFont.truetype('../Master/JetBrainsMonoNerdFont-Regular.ttf', 16)\n",
    "def textINimage(event:np.ndarray, size:int=224) -> Image.Image:\n",
    "    img = Image.fromarray(np.zeros([size,size,3]), 'RGB')\n",
    "    for i, f in enumerate(event):\n",
    "        x = ((1/4)+(i%2))*size//2.\n",
    "        y = (size//25)+((i//2)*2*size//len(event))\n",
    "        ImageDraw.Draw(img).text((x , y), f'{f:.1f}', fill=(255,255,255), font=font)\n",
    "    return img"
   ]
  },
  {
   "cell_type": "code",
   "execution_count": 33,
   "id": "cc89ea01-ea0f-430d-bea8-51e29dbecef6",
   "metadata": {},
   "outputs": [
    {
     "data": {
      "image/png": "[encoded data removed]",
      "text/plain": [
       "<PIL.Image.Image image mode=RGB size=224x224>"
      ]
     },
     "execution_count": 33,
     "metadata": {},
     "output_type": "execute_result"
    }
   ],
   "source": [
    "textINimage(df.drop('Potability', axis=1).values[0])"
   ]
  },
  {
   "cell_type": "code",
   "execution_count": 34,
   "id": "d67773b9-7a6e-475c-8402-8841dc02efb9",
   "metadata": {},
   "outputs": [],
   "source": [
    "def save_image(event:np.ndarray, name:str, func, loc:str, size:int=224) -> None:\n",
    "    func(event, size).save(join(loc,name))"
   ]
  },
  {
   "cell_type": "code",
   "execution_count": 47,
   "id": "58a436ac-a4c4-419d-8b9f-12c0c3342bd7",
   "metadata": {},
   "outputs": [],
   "source": [
    "def Generate(df:pd.DataFrame, func, path:str='imagesTML', size:int=224): \n",
    "    \n",
    "\n",
    "    # Create the directory for the images\n",
    "    for i in ['0', '1']:\n",
    "        xd = join(path, i)\n",
    "        os.makedirs(xd, exist_ok=True)\n",
    "\n",
    "    train = df.drop('Potability', axis=1)\n",
    "    target = df['Potability']\n",
    "    index = df.index.values\n",
    "    \n",
    "    for j in index:\n",
    "        # name = str(j) + \"_\" + str(target.loc[j]) + \".png\n",
    "        name = \"{:04d}\".format(j) + \".png\"\n",
    "        dir_path = join(path, str(target.loc[j]))\n",
    "        save_image(train.loc[j].values, name, func=func, loc=dir_path, size=size)\n",
    "\n",
    "    print(\"Images created at:\", path)"
   ]
  },
  {
   "cell_type": "code",
   "execution_count": 48,
   "id": "869fb75e-d73a-463d-8540-ca48ac8f6c62",
   "metadata": {},
   "outputs": [
    {
     "name": "stdout",
     "output_type": "stream",
     "text": [
      "Images created at: imagesTML\n",
      "CPU times: user 2min 10s, sys: 421 ms, total: 2min 10s\n",
      "Wall time: 2min 11s\n"
     ]
    }
   ],
   "source": [
    "%%time\n",
    "Generate(df, textINimage)"
   ]
  },
  {
   "cell_type": "markdown",
   "id": "ec650270-e471-430b-8111-b4f508b5810a",
   "metadata": {},
   "source": [
    "## for datasets load_dataset()"
   ]
  },
  {
   "cell_type": "code",
   "execution_count": 5,
   "id": "85c10d23-d098-41ea-b672-b60699c51424",
   "metadata": {},
   "outputs": [
    {
     "data": {
      "image/jpeg": "[encoded data removed]",
      "image/png": "[encoded data removed]",
      "text/plain": [
       "<PIL.Image.Image image mode=RGB size=224x224>"
      ]
     },
     "execution_count": 5,
     "metadata": {},
     "output_type": "execute_result"
    }
   ],
   "source": [
    "font = ImageFont.truetype('../Master/JetBrainsMonoNerdFont-Regular.ttf', 16)\n",
    "def textINimage3x3(event:np.ndarray, size:int=224) -> Image.Image:\n",
    "    img = Image.fromarray(np.zeros([size,size,3]), 'RGB')\n",
    "    for i, f in enumerate(event):\n",
    "        x = ((1/10)+(i%3))*size//3.3\n",
    "        y = (size//10)+((i//3)*3*size//len(event))\n",
    "        ImageDraw.Draw(img).text((x , y), f'{f:.1f}', fill=(255,255,255), font=font)\n",
    "    return img\n",
    "textINimage3x3(df.drop('Potability', axis=1).values[0])"
   ]
  },
  {
   "cell_type": "code",
   "execution_count": 6,
   "id": "a727ef22-35a2-45b5-96be-d72be444ab16",
   "metadata": {},
   "outputs": [],
   "source": [
    "def save_image(event:np.ndarray, name:str, func, loc:str, size:int=224) -> None:\n",
    "    func(event, size).save(join(loc,name))"
   ]
  },
  {
   "cell_type": "code",
   "execution_count": 8,
   "id": "27e8ae9c-0867-4a76-b3d4-e0fcaaf5574a",
   "metadata": {},
   "outputs": [],
   "source": [
    "def Generate(df:pd.DataFrame, func, path:str='imagesTML', size:int=224): \n",
    "    \n",
    "\n",
    "    # Create the directory for the images\n",
    "    for i in ['0', '1']:\n",
    "        xd = join(path, i)\n",
    "        os.makedirs(xd, exist_ok=True)\n",
    "\n",
    "    train = df.drop('Potability', axis=1)\n",
    "    target = df['Potability']\n",
    "    index = df.index.values\n",
    "    \n",
    "    for j in index:\n",
    "        # name = str(j) + \"_\" + str(target.loc[j]) + \".png\n",
    "        name = \"{:04d}\".format(j) + \".png\"\n",
    "        dir_path = join(path, str(target.loc[j]))\n",
    "        save_image(train.loc[j].values, name, func=func, loc=dir_path, size=size)\n",
    "\n",
    "    print(\"Images created at:\", path)"
   ]
  },
  {
   "cell_type": "code",
   "execution_count": 9,
   "id": "9ed39929-adc1-49fd-a4c2-ca9b1486e26b",
   "metadata": {},
   "outputs": [],
   "source": [
    "df_train, df_test = train_test_split(df, test_size=0.2)"
   ]
  },
  {
   "cell_type": "code",
   "execution_count": 11,
   "id": "0a49e031-4ef8-44ae-b796-3845c1391e76",
   "metadata": {},
   "outputs": [
    {
     "name": "stdout",
     "output_type": "stream",
     "text": [
      "Images created at: images/train\n",
      "CPU times: user 47.3 s, sys: 390 ms, total: 47.7 s\n",
      "Wall time: 48 s\n"
     ]
    }
   ],
   "source": [
    "%%time\n",
    "Generate(df_train, textINimage3x3, path='images/train')"
   ]
  },
  {
   "cell_type": "code",
   "execution_count": 12,
   "id": "78db0a0c-bcc4-4808-98ca-e2ed699bec1e",
   "metadata": {},
   "outputs": [
    {
     "name": "stdout",
     "output_type": "stream",
     "text": [
      "Images created at: images/test\n",
      "CPU times: user 11.9 s, sys: 93.4 ms, total: 12 s\n",
      "Wall time: 12 s\n"
     ]
    }
   ],
   "source": [
    "%%time\n",
    "Generate(df_test, textINimage3x3, path='images/test')"
   ]
  },
  {
   "cell_type": "code",
   "execution_count": null,
   "id": "2d319d5d-091d-43b6-a23d-60ec26db6895",
   "metadata": {},
   "outputs": [],
   "source": []
  },
  {
   "cell_type": "markdown",
   "id": "1e0bbf50-35d7-4928-ba06-f08cc2b8c872",
   "metadata": {
    "jp-MarkdownHeadingCollapsed": true
   },
   "source": [
    "# Traaaaaaaain"
   ]
  },
  {
   "cell_type": "code",
   "execution_count": 72,
   "id": "3e1455ac-4204-4c3f-8b34-cf87c546af8d",
   "metadata": {},
   "outputs": [],
   "source": [
    "import tensorflow as tf\n",
    "from tensorflow.keras import models\n",
    "from tensorflow.keras import layers\n",
    "from tensorflow import keras\n",
    "from sklearn.model_selection import train_test_split\n",
    "from tensorflow.keras.preprocessing.image import load_img, img_to_array\n",
    "from tensorflow.keras.preprocessing import image_dataset_from_directory as image_dataset \n",
    "import pathlib\n",
    "import PIL\n",
    "import matplotlib.pyplot as plt"
   ]
  },
  {
   "cell_type": "code",
   "execution_count": 51,
   "id": "0e973fde-4775-4f62-9863-b9379e96b258",
   "metadata": {},
   "outputs": [],
   "source": [
    "batch_size = 8\n",
    "img_size = 224\n",
    "dataDir = 'imagesTML'\n",
    "dataDir = pathlib.Path(dataDir).with_suffix('')"
   ]
  },
  {
   "cell_type": "code",
   "execution_count": 54,
   "id": "da24b38f-a92c-4249-8f8b-120c3b8fb8cb",
   "metadata": {},
   "outputs": [
    {
     "name": "stdout",
     "output_type": "stream",
     "text": [
      "3276\n"
     ]
    }
   ],
   "source": [
    "image_count = len(list(dataDir.glob('*/*.png')))\n",
    "print(image_count)"
   ]
  },
  {
   "cell_type": "code",
   "execution_count": 60,
   "id": "c0d30987-219e-4f5b-9d81-59c89be2be26",
   "metadata": {},
   "outputs": [
    {
     "data": {
      "image/png": "[encoded data removed]",
      "text/plain": [
       "<PIL.PngImagePlugin.PngImageFile image mode=RGB size=224x224>"
      ]
     },
     "execution_count": 60,
     "metadata": {},
     "output_type": "execute_result"
    }
   ],
   "source": [
    "roses = list(dataDir.glob('0/*'))\n",
    "PIL.Image.open(str(roses[99]))"
   ]
  },
  {
   "cell_type": "code",
   "execution_count": 62,
   "id": "5da6e035-987f-4a73-85a2-8b540c6add27",
   "metadata": {},
   "outputs": [
    {
     "name": "stdout",
     "output_type": "stream",
     "text": [
      "Found 3276 files belonging to 2 classes.\n",
      "Using 2621 files for training.\n",
      "Using 655 files for validation.\n"
     ]
    }
   ],
   "source": [
    "train_ds, val_ds = tf.keras.utils.image_dataset_from_directory(\n",
    "  dataDir,\n",
    "  validation_split=0.2,\n",
    "  subset=\"both\",\n",
    "  seed=123,\n",
    "  image_size=(img_size, img_size),\n",
    "  batch_size=batch_size)\n"
   ]
  },
  {
   "cell_type": "code",
   "execution_count": 63,
   "id": "f15b5119-1410-482c-8bc8-78fa10f14419",
   "metadata": {},
   "outputs": [
    {
     "name": "stdout",
     "output_type": "stream",
     "text": [
      "['0', '1']\n"
     ]
    }
   ],
   "source": [
    "class_names = train_ds.class_names\n",
    "print(class_names)"
   ]
  },
  {
   "cell_type": "code",
   "execution_count": 78,
   "id": "17ac4536-4afe-4bbf-b02f-70187f97dd50",
   "metadata": {},
   "outputs": [],
   "source": [
    "num_classes = len(class_names)\n",
    "\n",
    "model = models.Sequential([\n",
    "    layers.Rescaling(1./255, input_shape=(img_size, img_size, 3)),\n",
    "    layers.Conv2D(16, 3, padding='same', activation='relu'),\n",
    "    layers.MaxPooling2D(),\n",
    "    layers.Conv2D(32, 3, padding='same', activation='relu'),\n",
    "    layers.MaxPooling2D(),\n",
    "    layers.Conv2D(64, 3, padding='same', activation='relu'),\n",
    "    layers.MaxPooling2D(),\n",
    "    layers.Flatten(),\n",
    "    layers.Dense(128, activation='relu'),\n",
    "    layers.Dense(64, activation='relu'),\n",
    "    layers.Dense(32, activation='relu'),\n",
    "    layers.Dense(16, activation='relu'),\n",
    "    layers.Dense(32, activation='relu'),\n",
    "    layers.Dense(64, activation='relu'),\n",
    "    layers.Dense(128, activation='relu'),\n",
    "    layers.Dense(num_classes)\n",
    "])\n"
   ]
  },
  {
   "cell_type": "code",
   "execution_count": 79,
   "id": "25c714e2-ea33-454e-9697-ecdedbcc19f0",
   "metadata": {},
   "outputs": [],
   "source": [
    "model.compile(optimizer='adam',\n",
    "              loss=tf.keras.losses.SparseCategoricalCrossentropy(from_logits=True),\n",
    "              metrics=['accuracy'])\n"
   ]
  },
  {
   "cell_type": "code",
   "execution_count": 80,
   "id": "d533de40-1839-4ac3-8c2f-ed49a8d51b13",
   "metadata": {},
   "outputs": [
    {
     "name": "stdout",
     "output_type": "stream",
     "text": [
      "Model: \"sequential_5\"\n",
      "_________________________________________________________________\n",
      " Layer (type)                Output Shape              Param #   \n",
      "=================================================================\n",
      " rescaling_5 (Rescaling)     (None, 224, 224, 3)       0         \n",
      "                                                                 \n",
      " conv2d_27 (Conv2D)          (None, 224, 224, 16)      448       \n",
      "                                                                 \n",
      " max_pooling2d_27 (MaxPooli  (None, 112, 112, 16)      0         \n",
      " ng2D)                                                           \n",
      "                                                                 \n",
      " conv2d_28 (Conv2D)          (None, 112, 112, 32)      4640      \n",
      "                                                                 \n",
      " max_pooling2d_28 (MaxPooli  (None, 56, 56, 32)        0         \n",
      " ng2D)                                                           \n",
      "                                                                 \n",
      " conv2d_29 (Conv2D)          (None, 56, 56, 64)        18496     \n",
      "                                                                 \n",
      " max_pooling2d_29 (MaxPooli  (None, 28, 28, 64)        0         \n",
      " ng2D)                                                           \n",
      "                                                                 \n",
      " flatten_5 (Flatten)         (None, 50176)             0         \n",
      "                                                                 \n",
      " dense_12 (Dense)            (None, 128)               6422656   \n",
      "                                                                 \n",
      " dense_13 (Dense)            (None, 64)                8256      \n",
      "                                                                 \n",
      " dense_14 (Dense)            (None, 32)                2080      \n",
      "                                                                 \n",
      " dense_15 (Dense)            (None, 16)                528       \n",
      "                                                                 \n",
      " dense_16 (Dense)            (None, 32)                544       \n",
      "                                                                 \n",
      " dense_17 (Dense)            (None, 64)                2112      \n",
      "                                                                 \n",
      " dense_18 (Dense)            (None, 128)               8320      \n",
      "                                                                 \n",
      " dense_19 (Dense)            (None, 2)                 258       \n",
      "                                                                 \n",
      "=================================================================\n",
      "Total params: 6468338 (24.67 MB)\n",
      "Trainable params: 6468338 (24.67 MB)\n",
      "Non-trainable params: 0 (0.00 Byte)\n",
      "_________________________________________________________________\n"
     ]
    }
   ],
   "source": [
    "model.summary()\n"
   ]
  },
  {
   "cell_type": "code",
   "execution_count": 81,
   "id": "930e1ab2-b3c3-41a1-b38b-12f92b555d8d",
   "metadata": {},
   "outputs": [
    {
     "name": "stdout",
     "output_type": "stream",
     "text": [
      "Epoch 1/50\n",
      "328/328 [==============================] - 74s 222ms/step - loss: 0.6725 - accuracy: 0.6078 - val_loss: 0.6700 - val_accuracy: 0.6092\n",
      "Epoch 2/50\n",
      "328/328 [==============================] - 98s 297ms/step - loss: 0.6703 - accuracy: 0.6101 - val_loss: 0.6694 - val_accuracy: 0.6092\n",
      "Epoch 3/50\n",
      "328/328 [==============================] - 89s 270ms/step - loss: 0.6698 - accuracy: 0.6101 - val_loss: 0.6691 - val_accuracy: 0.6092\n",
      "Epoch 4/50\n",
      "328/328 [==============================] - 104s 316ms/step - loss: 0.6696 - accuracy: 0.6101 - val_loss: 0.6691 - val_accuracy: 0.6092\n",
      "Epoch 5/50\n",
      "328/328 [==============================] - 104s 317ms/step - loss: 0.6695 - accuracy: 0.6101 - val_loss: 0.6691 - val_accuracy: 0.6092\n",
      "Epoch 6/50\n",
      "328/328 [==============================] - 102s 312ms/step - loss: 0.6696 - accuracy: 0.6101 - val_loss: 0.6694 - val_accuracy: 0.6092\n",
      "Epoch 7/50\n",
      "328/328 [==============================] - 99s 301ms/step - loss: 0.6693 - accuracy: 0.6101 - val_loss: 0.6692 - val_accuracy: 0.6092\n",
      "Epoch 8/50\n",
      "328/328 [==============================] - 104s 318ms/step - loss: 0.6693 - accuracy: 0.6101 - val_loss: 0.6693 - val_accuracy: 0.6092\n",
      "Epoch 9/50\n",
      "328/328 [==============================] - 99s 301ms/step - loss: 0.6695 - accuracy: 0.6101 - val_loss: 0.6693 - val_accuracy: 0.6092\n",
      "Epoch 10/50\n",
      "328/328 [==============================] - 100s 305ms/step - loss: 0.6694 - accuracy: 0.6101 - val_loss: 0.6695 - val_accuracy: 0.6092\n",
      "Epoch 11/50\n",
      "328/328 [==============================] - 105s 319ms/step - loss: 0.6694 - accuracy: 0.6101 - val_loss: 0.6691 - val_accuracy: 0.6092\n",
      "Epoch 12/50\n",
      "328/328 [==============================] - 90s 274ms/step - loss: 0.6697 - accuracy: 0.6101 - val_loss: 0.6693 - val_accuracy: 0.6092\n",
      "Epoch 13/50\n",
      "328/328 [==============================] - 100s 305ms/step - loss: 0.6694 - accuracy: 0.6101 - val_loss: 0.6696 - val_accuracy: 0.6092\n",
      "Epoch 14/50\n",
      "328/328 [==============================] - 99s 301ms/step - loss: 0.6695 - accuracy: 0.6101 - val_loss: 0.6693 - val_accuracy: 0.6092\n",
      "Epoch 15/50\n",
      "328/328 [==============================] - 90s 273ms/step - loss: 0.6692 - accuracy: 0.6101 - val_loss: 0.6693 - val_accuracy: 0.6092\n",
      "Epoch 16/50\n",
      "328/328 [==============================] - 100s 304ms/step - loss: 0.6695 - accuracy: 0.6101 - val_loss: 0.6695 - val_accuracy: 0.6092\n",
      "Epoch 17/50\n",
      "328/328 [==============================] - 100s 304ms/step - loss: 0.6695 - accuracy: 0.6101 - val_loss: 0.6693 - val_accuracy: 0.6092\n",
      "Epoch 18/50\n",
      "328/328 [==============================] - 105s 319ms/step - loss: 0.6692 - accuracy: 0.6101 - val_loss: 0.6694 - val_accuracy: 0.6092\n",
      "Epoch 19/50\n",
      "328/328 [==============================] - 99s 301ms/step - loss: 0.6694 - accuracy: 0.6101 - val_loss: 0.6694 - val_accuracy: 0.6092\n",
      "Epoch 20/50\n",
      "328/328 [==============================] - 100s 305ms/step - loss: 0.6695 - accuracy: 0.6101 - val_loss: 0.6693 - val_accuracy: 0.6092\n",
      "Epoch 21/50\n",
      "328/328 [==============================] - 96s 294ms/step - loss: 0.6693 - accuracy: 0.6101 - val_loss: 0.6694 - val_accuracy: 0.6092\n",
      "Epoch 22/50\n",
      "328/328 [==============================] - 98s 298ms/step - loss: 0.6694 - accuracy: 0.6101 - val_loss: 0.6694 - val_accuracy: 0.6092\n",
      "Epoch 23/50\n",
      "328/328 [==============================] - 89s 272ms/step - loss: 0.6692 - accuracy: 0.6101 - val_loss: 0.6692 - val_accuracy: 0.6092\n",
      "Epoch 24/50\n",
      "328/328 [==============================] - 99s 303ms/step - loss: 0.6694 - accuracy: 0.6101 - val_loss: 0.6693 - val_accuracy: 0.6092\n",
      "Epoch 25/50\n",
      "328/328 [==============================] - 90s 275ms/step - loss: 0.6693 - accuracy: 0.6101 - val_loss: 0.6694 - val_accuracy: 0.6092\n",
      "Epoch 26/50\n",
      "328/328 [==============================] - 99s 302ms/step - loss: 0.6694 - accuracy: 0.6101 - val_loss: 0.6692 - val_accuracy: 0.6092\n",
      "Epoch 27/50\n",
      "328/328 [==============================] - 100s 303ms/step - loss: 0.6692 - accuracy: 0.6101 - val_loss: 0.6692 - val_accuracy: 0.6092\n",
      "Epoch 28/50\n",
      "328/328 [==============================] - 100s 306ms/step - loss: 0.6691 - accuracy: 0.6101 - val_loss: 0.6693 - val_accuracy: 0.6092\n",
      "Epoch 29/50\n",
      "328/328 [==============================] - 101s 308ms/step - loss: 0.6692 - accuracy: 0.6101 - val_loss: 0.6694 - val_accuracy: 0.6092\n",
      "Epoch 30/50\n",
      "328/328 [==============================] - 100s 304ms/step - loss: 0.6691 - accuracy: 0.6101 - val_loss: 0.6693 - val_accuracy: 0.6092\n",
      "Epoch 31/50\n",
      "328/328 [==============================] - 101s 307ms/step - loss: 0.6694 - accuracy: 0.6101 - val_loss: 0.6693 - val_accuracy: 0.6092\n",
      "Epoch 32/50\n",
      "328/328 [==============================] - 100s 305ms/step - loss: 0.6694 - accuracy: 0.6101 - val_loss: 0.6692 - val_accuracy: 0.6092\n",
      "Epoch 33/50\n",
      "328/328 [==============================] - 100s 305ms/step - loss: 0.6693 - accuracy: 0.6101 - val_loss: 0.6692 - val_accuracy: 0.6092\n",
      "Epoch 34/50\n",
      "328/328 [==============================] - 100s 304ms/step - loss: 0.6695 - accuracy: 0.6101 - val_loss: 0.6694 - val_accuracy: 0.6092\n",
      "Epoch 35/50\n",
      "328/328 [==============================] - 90s 275ms/step - loss: 0.6694 - accuracy: 0.6101 - val_loss: 0.6693 - val_accuracy: 0.6092\n",
      "Epoch 36/50\n",
      "328/328 [==============================] - 100s 304ms/step - loss: 0.6691 - accuracy: 0.6101 - val_loss: 0.6693 - val_accuracy: 0.6092\n",
      "Epoch 37/50\n",
      "328/328 [==============================] - 90s 275ms/step - loss: 0.6692 - accuracy: 0.6101 - val_loss: 0.6693 - val_accuracy: 0.6092\n",
      "Epoch 38/50\n",
      "328/328 [==============================] - 94s 287ms/step - loss: 0.6692 - accuracy: 0.6101 - val_loss: 0.6694 - val_accuracy: 0.6092\n",
      "Epoch 39/50\n",
      "328/328 [==============================] - 98s 298ms/step - loss: 0.6691 - accuracy: 0.6101 - val_loss: 0.6694 - val_accuracy: 0.6092\n",
      "Epoch 40/50\n",
      "328/328 [==============================] - 89s 270ms/step - loss: 0.6692 - accuracy: 0.6101 - val_loss: 0.6694 - val_accuracy: 0.6092\n",
      "Epoch 41/50\n",
      "328/328 [==============================] - 106s 323ms/step - loss: 0.6693 - accuracy: 0.6101 - val_loss: 0.6692 - val_accuracy: 0.6092\n",
      "Epoch 42/50\n",
      "328/328 [==============================] - 99s 300ms/step - loss: 0.6692 - accuracy: 0.6101 - val_loss: 0.6693 - val_accuracy: 0.6092\n",
      "Epoch 43/50\n",
      "328/328 [==============================] - 105s 320ms/step - loss: 0.6694 - accuracy: 0.6101 - val_loss: 0.6692 - val_accuracy: 0.6092\n",
      "Epoch 44/50\n",
      "328/328 [==============================] - 99s 301ms/step - loss: 0.6692 - accuracy: 0.6101 - val_loss: 0.6692 - val_accuracy: 0.6092\n",
      "Epoch 45/50\n",
      "328/328 [==============================] - 92s 279ms/step - loss: 0.6692 - accuracy: 0.6101 - val_loss: 0.6694 - val_accuracy: 0.6092\n",
      "Epoch 46/50\n",
      "328/328 [==============================] - 88s 270ms/step - loss: 0.6692 - accuracy: 0.6101 - val_loss: 0.6693 - val_accuracy: 0.6092\n",
      "Epoch 47/50\n",
      "328/328 [==============================] - 100s 303ms/step - loss: 0.6692 - accuracy: 0.6101 - val_loss: 0.6692 - val_accuracy: 0.6092\n",
      "Epoch 48/50\n",
      "328/328 [==============================] - 104s 317ms/step - loss: 0.6691 - accuracy: 0.6101 - val_loss: 0.6693 - val_accuracy: 0.6092\n",
      "Epoch 49/50\n",
      "328/328 [==============================] - 91s 276ms/step - loss: 0.6691 - accuracy: 0.6101 - val_loss: 0.6693 - val_accuracy: 0.6092\n",
      "Epoch 50/50\n",
      "328/328 [==============================] - 105s 319ms/step - loss: 0.6692 - accuracy: 0.6101 - val_loss: 0.6692 - val_accuracy: 0.6092\n"
     ]
    }
   ],
   "source": [
    "epochs=50\n",
    "history = model.fit(\n",
    "  train_ds,\n",
    "  validation_data=val_ds,\n",
    "  epochs=epochs\n",
    ")\n"
   ]
  },
  {
   "cell_type": "code",
   "execution_count": 82,
   "id": "0f1f4c50-166e-4c33-aa8c-85c0f0bebcb0",
   "metadata": {},
   "outputs": [
    {
     "data": {
      "image/png": "[encoded data removed]",
      "text/plain": [
       "<Figure size 800x800 with 2 Axes>"
      ]
     },
     "metadata": {},
     "output_type": "display_data"
    }
   ],
   "source": [
    "acc = history.history['accuracy']\n",
    "val_acc = history.history['val_accuracy']\n",
    "\n",
    "loss = history.history['loss']\n",
    "val_loss = history.history['val_loss']\n",
    "\n",
    "epochs_range = range(epochs)\n",
    "\n",
    "plt.figure(figsize=(8, 8))\n",
    "plt.subplot(1, 2, 1)\n",
    "plt.plot(epochs_range, acc, label='Training Accuracy')\n",
    "plt.plot(epochs_range, val_acc, label='Validation Accuracy')\n",
    "plt.legend(loc='lower right')\n",
    "plt.title('Training and Validation Accuracy')\n",
    "\n",
    "plt.subplot(1, 2, 2)\n",
    "plt.plot(epochs_range, loss, label='Training Loss')\n",
    "plt.plot(epochs_range, val_loss, label='Validation Loss')\n",
    "plt.legend(loc='upper right')\n",
    "plt.title('Training and Validation Loss')\n",
    "plt.show()\n"
   ]
  },
  {
   "cell_type": "code",
   "execution_count": 83,
   "id": "1d042f20-92da-4d40-82ec-0c471fe3d85d",
   "metadata": {},
   "outputs": [
    {
     "data": {
      "text/plain": [
       "[0.607783317565918,\n",
       " 0.6100724935531616,\n",
       " 0.6100724935531616,\n",
       " 0.6100724935531616,\n",
       " 0.6100724935531616,\n",
       " 0.6100724935531616,\n",
       " 0.6100724935531616,\n",
       " 0.6100724935531616,\n",
       " 0.6100724935531616,\n",
       " 0.6100724935531616,\n",
       " 0.6100724935531616,\n",
       " 0.6100724935531616,\n",
       " 0.6100724935531616,\n",
       " 0.6100724935531616,\n",
       " 0.6100724935531616,\n",
       " 0.6100724935531616,\n",
       " 0.6100724935531616,\n",
       " 0.6100724935531616,\n",
       " 0.6100724935531616,\n",
       " 0.6100724935531616,\n",
       " 0.6100724935531616,\n",
       " 0.6100724935531616,\n",
       " 0.6100724935531616,\n",
       " 0.6100724935531616,\n",
       " 0.6100724935531616,\n",
       " 0.6100724935531616,\n",
       " 0.6100724935531616,\n",
       " 0.6100724935531616,\n",
       " 0.6100724935531616,\n",
       " 0.6100724935531616,\n",
       " 0.6100724935531616,\n",
       " 0.6100724935531616,\n",
       " 0.6100724935531616,\n",
       " 0.6100724935531616,\n",
       " 0.6100724935531616,\n",
       " 0.6100724935531616,\n",
       " 0.6100724935531616,\n",
       " 0.6100724935531616,\n",
       " 0.6100724935531616,\n",
       " 0.6100724935531616,\n",
       " 0.6100724935531616,\n",
       " 0.6100724935531616,\n",
       " 0.6100724935531616,\n",
       " 0.6100724935531616,\n",
       " 0.6100724935531616,\n",
       " 0.6100724935531616,\n",
       " 0.6100724935531616,\n",
       " 0.6100724935531616,\n",
       " 0.6100724935531616,\n",
       " 0.6100724935531616]"
      ]
     },
     "execution_count": 83,
     "metadata": {},
     "output_type": "execute_result"
    }
   ],
   "source": [
    "history.history['accuracy']"
   ]
  },
  {
   "cell_type": "code",
   "execution_count": null,
   "id": "c64bb506-1928-4ab4-a6ee-c8beedda42e0",
   "metadata": {},
   "outputs": [],
   "source": []
  }
 ],
 "metadata": {
  "kernelspec": {
   "display_name": "Python 3 (ipykernel)",
   "language": "python",
   "name": "python3"
  },
  "language_info": {
   "codemirror_mode": {
    "name": "ipython",
    "version": 3
   },
   "file_extension": ".py",
   "mimetype": "text/x-python",
   "name": "python",
   "nbconvert_exporter": "python",
   "pygments_lexer": "ipython3",
   "version": "3.12.3"
  }
 },
 "nbformat": 4,
 "nbformat_minor": 5
}
