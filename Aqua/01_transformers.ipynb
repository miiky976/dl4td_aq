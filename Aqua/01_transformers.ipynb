{
 "cells": [
  {
   "cell_type": "markdown",
   "id": "b2317fa9-ff04-452e-9fa4-227ee653f382",
   "metadata": {},
   "source": [
    "# Not transformers\n",
    "I am not applying transformers in here, im just tensting some things about transformers.\n",
    "\n",
    "Where am i gonna apply it?\n",
    "\n",
    "In Google colab"
   ]
  },
  {
   "cell_type": "code",
   "execution_count": 2,
   "id": "dd480d79-2cd4-4dc9-8f7d-f8b781094e2f",
   "metadata": {},
   "outputs": [
    {
     "name": "stderr",
     "output_type": "stream",
     "text": [
      "/home/miiky/progar/python/chamba/chamba/lib/python3.12/site-packages/tqdm/auto.py:21: TqdmWarning: IProgress not found. Please update jupyter and ipywidgets. See https://ipywidgets.readthedocs.io/en/stable/user_install.html\n",
      "  from .autonotebook import tqdm as notebook_tqdm\n"
     ]
    }
   ],
   "source": [
    "from datasets import load_dataset"
   ]
  },
  {
   "cell_type": "code",
   "execution_count": 5,
   "id": "31f4acce-9d80-42a4-b3c0-c38ea5d6b144",
   "metadata": {},
   "outputs": [
    {
     "name": "stderr",
     "output_type": "stream",
     "text": [
      "Downloading data: 100%|█████████████████████████████████████████████████████████████████████████████████████████████████████████| 2620/2620 [00:00<00:00, 63378.16files/s]\n",
      "Downloading data: 100%|███████████████████████████████████████████████████████████████████████████████████████████████████████████| 656/656 [00:00<00:00, 67560.36files/s]\n",
      "Generating train split: 2620 examples [00:00, 12070.24 examples/s]\n",
      "Generating test split: 656 examples [00:00, 10246.81 examples/s]\n"
     ]
    }
   ],
   "source": [
    "data = load_dataset(\"imagefolder\", data_dir=\"images\")"
   ]
  },
  {
   "cell_type": "code",
   "execution_count": 8,
   "id": "099b30f1-b352-4bbb-b026-feef5d416eff",
   "metadata": {},
   "outputs": [
    {
     "data": {
      "text/plain": [
       "{'image': <PIL.PngImagePlugin.PngImageFile image mode=RGB size=224x224>,\n",
       " 'label': 0}"
      ]
     },
     "execution_count": 8,
     "metadata": {},
     "output_type": "execute_result"
    }
   ],
   "source": [
    "data[\"train\"][0]"
   ]
  },
  {
   "cell_type": "code",
   "execution_count": null,
   "id": "e84e9b57-5612-4dca-b52e-09f07125f451",
   "metadata": {},
   "outputs": [],
   "source": []
  }
 ],
 "metadata": {
  "kernelspec": {
   "display_name": "Python 3 (ipykernel)",
   "language": "python",
   "name": "python3"
  },
  "language_info": {
   "codemirror_mode": {
    "name": "ipython",
    "version": 3
   },
   "file_extension": ".py",
   "mimetype": "text/x-python",
   "name": "python",
   "nbconvert_exporter": "python",
   "pygments_lexer": "ipython3",
   "version": "3.12.3"
  }
 },
 "nbformat": 4,
 "nbformat_minor": 5
}
