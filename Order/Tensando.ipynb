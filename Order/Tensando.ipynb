{
 "cells": [
  {
   "cell_type": "markdown",
   "id": "56a7c9ef-583c-41a6-8278-fc69f1a1f4b2",
   "metadata": {},
   "source": [
    "# Testing\n",
    "This tests will no gonna include some kind of scaling.\n",
    "\n",
    "But I'm using a CSV that was cleaned previously, including outliers.\n",
    "\n",
    "So I don't think its gonna require another outlier filter."
   ]
  },
  {
   "cell_type": "code",
   "execution_count": 2,
   "id": "f5c0d7af-0dfc-4072-b708-6c4df9a5c1d5",
   "metadata": {},
   "outputs": [],
   "source": [
    "import pandas as pd\n",
    "import tensorflow as tf\n",
    "from tensorflow.keras import models, layers"
   ]
  },
  {
   "cell_type": "code",
   "execution_count": 7,
   "id": "3f30efd1-2dd7-4d8c-a09b-6b6d56513dea",
   "metadata": {},
   "outputs": [],
   "source": [
    "data = pd.read_csv('DataSet/dataWnmhc.csv')"
   ]
  },
  {
   "cell_type": "code",
   "execution_count": 8,
   "id": "3370c11a-9376-4565-93fe-cf98037f7994",
   "metadata": {},
   "outputs": [
    {
     "data": {
      "text/plain": [
       "CO(GT)           float64\n",
       "PT08.S1(CO)      float64\n",
       "C6H6(GT)         float64\n",
       "PT08.S2(NMHC)    float64\n",
       "NOx(GT)          float64\n",
       "PT08.S3(NOx)     float64\n",
       "NO2(GT)          float64\n",
       "PT08.S4(NO2)     float64\n",
       "PT08.S5(O3)      float64\n",
       "T                float64\n",
       "RH               float64\n",
       "AH               float64\n",
       "datetimestamp      int64\n",
       "DateTime          object\n",
       "dtype: object"
      ]
     },
     "execution_count": 8,
     "metadata": {},
     "output_type": "execute_result"
    }
   ],
   "source": [
    "data.dtypes"
   ]
  },
  {
   "cell_type": "code",
   "execution_count": 13,
   "id": "0bbd692f-fe6c-4ea2-a892-db51f8977bf0",
   "metadata": {},
   "outputs": [],
   "source": [
    "data = data.drop(columns=['CO(GT)', 'C6H6(GT)', 'NOx(GT)', 'NO2(GT)', 'DateTime'])"
   ]
  },
  {
   "cell_type": "code",
   "execution_count": 27,
   "id": "ee29c45d-ddb3-4a0f-9c7b-0dcb859bc318",
   "metadata": {},
   "outputs": [],
   "source": [
    "X = data.drop(columns=['PT08.S1(CO)'])\n",
    "y = data['PT08.S1(CO)']"
   ]
  },
  {
   "cell_type": "code",
   "execution_count": 20,
   "id": "53c19379-6599-4e08-af9a-ea9c46116ac9",
   "metadata": {},
   "outputs": [],
   "source": [
    "from sklearn.model_selection import train_test_split as tts"
   ]
  },
  {
   "cell_type": "code",
   "execution_count": 37,
   "id": "f60f9d05-a991-4c22-9b03-767682ca8c93",
   "metadata": {},
   "outputs": [],
   "source": [
    "X_train, X_test, y_train, y_test = tts(X, y, test_size=0.3)\n",
    "X_train, X_val, y_train, y_val = tts(X_train, y_train, test_size=0.3)"
   ]
  },
  {
   "cell_type": "code",
   "execution_count": 47,
   "id": "85aeb893-2f28-4e53-b955-48258d0d66bc",
   "metadata": {},
   "outputs": [],
   "source": [
    "train_dataset = tf.data.Dataset.from_tensor_slices((X_train, y_train)).batch(32)\n",
    "val_dataset = tf.data.Dataset.from_tensor_slices((X_val, y_val)).batch(32)\n",
    "test_dataset = tf.data.Dataset.from_tensor_slices((X_test, y_test)).batch(32)"
   ]
  },
  {
   "cell_type": "code",
   "execution_count": 48,
   "id": "f3786e9d-fe9e-49d5-96ca-7e24d16f3be6",
   "metadata": {},
   "outputs": [
    {
     "data": {
      "text/plain": [
       "8"
      ]
     },
     "execution_count": 48,
     "metadata": {},
     "output_type": "execute_result"
    }
   ],
   "source": [
    "X_train.shape[1]"
   ]
  },
  {
   "cell_type": "code",
   "execution_count": 49,
   "id": "9650cd40-af1f-41e7-91eb-146c2a321d10",
   "metadata": {},
   "outputs": [
    {
     "name": "stdout",
     "output_type": "stream",
     "text": [
      "Epoch 1/50\n",
      "100/100 [==============================] - 1s 3ms/step - loss: 1077132096700416.0000 - val_loss: 38588083339264.0000\n",
      "Epoch 2/50\n",
      "100/100 [==============================] - 0s 2ms/step - loss: 85105968152576.0000 - val_loss: 2977816379392.0000\n",
      "Epoch 3/50\n",
      "100/100 [==============================] - 0s 2ms/step - loss: 29481773301760.0000 - val_loss: 220002353152.0000\n",
      "Epoch 4/50\n",
      "100/100 [==============================] - 0s 2ms/step - loss: 12027135262720.0000 - val_loss: 19109601280.0000\n",
      "Epoch 5/50\n",
      "100/100 [==============================] - 0s 2ms/step - loss: 5535758811136.0000 - val_loss: 1040517568.0000\n",
      "Epoch 6/50\n",
      "100/100 [==============================] - 0s 2ms/step - loss: 5161923117056.0000 - val_loss: 145149664.0000\n",
      "Epoch 7/50\n",
      "100/100 [==============================] - 0s 2ms/step - loss: 2924236767232.0000 - val_loss: 117291656.0000\n",
      "Epoch 8/50\n",
      "100/100 [==============================] - 0s 2ms/step - loss: 2066397134848.0000 - val_loss: 980064192.0000\n",
      "Epoch 9/50\n",
      "100/100 [==============================] - 0s 2ms/step - loss: 1946133987328.0000 - val_loss: 100001480.0000\n",
      "Epoch 10/50\n",
      "100/100 [==============================] - 0s 2ms/step - loss: 1399571742720.0000 - val_loss: 691268608.0000\n",
      "Epoch 11/50\n",
      "100/100 [==============================] - 0s 2ms/step - loss: 1672757510144.0000 - val_loss: 873672832.0000\n",
      "Epoch 12/50\n",
      "100/100 [==============================] - 0s 2ms/step - loss: 1734640664576.0000 - val_loss: 496919680.0000\n",
      "Epoch 13/50\n",
      "100/100 [==============================] - 0s 2ms/step - loss: 1158209994752.0000 - val_loss: 447328640.0000\n",
      "Epoch 14/50\n",
      "100/100 [==============================] - 0s 2ms/step - loss: 706628222976.0000 - val_loss: 2667168.0000\n",
      "Epoch 15/50\n",
      "100/100 [==============================] - 0s 2ms/step - loss: 232713502720.0000 - val_loss: 511148.8125\n",
      "Epoch 16/50\n",
      "100/100 [==============================] - 0s 2ms/step - loss: 173776781312.0000 - val_loss: 4560361.0000\n",
      "Epoch 17/50\n",
      "100/100 [==============================] - 0s 2ms/step - loss: 247998480384.0000 - val_loss: 932238.5000\n",
      "Epoch 18/50\n",
      "100/100 [==============================] - 0s 2ms/step - loss: 167205289984.0000 - val_loss: 1555459.6250\n",
      "Epoch 19/50\n",
      "100/100 [==============================] - 0s 2ms/step - loss: 84328636416.0000 - val_loss: 15965537.0000\n",
      "Epoch 20/50\n",
      "100/100 [==============================] - 0s 2ms/step - loss: 66713591808.0000 - val_loss: 1036379.9375\n",
      "Epoch 21/50\n",
      "100/100 [==============================] - 0s 2ms/step - loss: 167458979840.0000 - val_loss: 36450720.0000\n",
      "Epoch 22/50\n",
      "100/100 [==============================] - 0s 2ms/step - loss: 336223502336.0000 - val_loss: 1179967.6250\n",
      "Epoch 23/50\n",
      "100/100 [==============================] - 0s 2ms/step - loss: 499928432640.0000 - val_loss: 51302980.0000\n",
      "Epoch 24/50\n",
      "100/100 [==============================] - 0s 2ms/step - loss: 60164214784.0000 - val_loss: 428192.4062\n",
      "Epoch 25/50\n",
      "100/100 [==============================] - 0s 3ms/step - loss: 12359934976.0000 - val_loss: 191752.5938\n",
      "Epoch 26/50\n",
      "100/100 [==============================] - 0s 2ms/step - loss: 263895367680.0000 - val_loss: 34144504.0000\n",
      "Epoch 27/50\n",
      "100/100 [==============================] - 0s 2ms/step - loss: 36587925504.0000 - val_loss: 279056.3125\n",
      "Epoch 28/50\n",
      "100/100 [==============================] - 0s 2ms/step - loss: 203848122368.0000 - val_loss: 807232000.0000\n",
      "Epoch 29/50\n",
      "100/100 [==============================] - 0s 2ms/step - loss: 182039789568.0000 - val_loss: 72304.1953\n",
      "Epoch 30/50\n",
      "100/100 [==============================] - 0s 2ms/step - loss: 257747091456.0000 - val_loss: 59316628.0000\n",
      "Epoch 31/50\n",
      "100/100 [==============================] - 0s 2ms/step - loss: 6443032064.0000 - val_loss: 127917.6172\n",
      "Epoch 32/50\n",
      "100/100 [==============================] - 0s 3ms/step - loss: 80078774272.0000 - val_loss: 53527.9531\n",
      "Epoch 33/50\n",
      "100/100 [==============================] - 0s 2ms/step - loss: 74283073536.0000 - val_loss: 1410250.5000\n",
      "Epoch 34/50\n",
      "100/100 [==============================] - 0s 2ms/step - loss: 75570913280.0000 - val_loss: 4446946.0000\n",
      "Epoch 35/50\n",
      "100/100 [==============================] - 0s 2ms/step - loss: 135591108608.0000 - val_loss: 402738656.0000\n",
      "Epoch 36/50\n",
      "100/100 [==============================] - 0s 2ms/step - loss: 99468992512.0000 - val_loss: 83146.5859\n",
      "Epoch 37/50\n",
      "100/100 [==============================] - 0s 2ms/step - loss: 103398924288.0000 - val_loss: 86439152.0000\n",
      "Epoch 38/50\n",
      "100/100 [==============================] - 0s 2ms/step - loss: 1295674240.0000 - val_loss: 257102.2656\n",
      "Epoch 39/50\n",
      "100/100 [==============================] - 0s 2ms/step - loss: 59894231040.0000 - val_loss: 107276.1719\n",
      "Epoch 40/50\n",
      "100/100 [==============================] - 0s 2ms/step - loss: 443909373952.0000 - val_loss: 23506514.0000\n",
      "Epoch 41/50\n",
      "100/100 [==============================] - 0s 2ms/step - loss: 2343314688.0000 - val_loss: 3843362.5000\n",
      "Epoch 42/50\n",
      "100/100 [==============================] - 0s 2ms/step - loss: 110443880448.0000 - val_loss: 713768832.0000\n",
      "Epoch 43/50\n",
      "100/100 [==============================] - 0s 2ms/step - loss: 133975728128.0000 - val_loss: 135571.4219\n",
      "Epoch 44/50\n",
      "100/100 [==============================] - 0s 2ms/step - loss: 61126205440.0000 - val_loss: 23294932.0000\n",
      "Epoch 45/50\n",
      "100/100 [==============================] - 0s 2ms/step - loss: 55068356.0000 - val_loss: 382857.5938\n",
      "Epoch 46/50\n",
      "100/100 [==============================] - 0s 2ms/step - loss: 9395013632.0000 - val_loss: 40278.3164\n",
      "Epoch 47/50\n",
      "100/100 [==============================] - 0s 2ms/step - loss: 1221477120.0000 - val_loss: 253780.0938\n",
      "Epoch 48/50\n",
      "100/100 [==============================] - 0s 2ms/step - loss: 4663445504.0000 - val_loss: 195744.0625\n",
      "Epoch 49/50\n",
      "100/100 [==============================] - 0s 2ms/step - loss: 398744.5625 - val_loss: 232339.9688\n",
      "Epoch 50/50\n",
      "100/100 [==============================] - 0s 2ms/step - loss: 56069046272.0000 - val_loss: 178041.7344\n"
     ]
    },
    {
     "data": {
      "text/plain": [
       "<keras.src.callbacks.History at 0x7615c49d5d50>"
      ]
     },
     "execution_count": 49,
     "metadata": {},
     "output_type": "execute_result"
    }
   ],
   "source": [
    "model = models.Sequential([\n",
    "    layers.Input(shape=(X.shape[1],)),\n",
    "    layers.Dense(32, activation='relu'),\n",
    "    layers.Dropout(0.2),\n",
    "    layers.Dense(16, activation='relu'),\n",
    "    layers.Dense(8, activation='relu'),\n",
    "    layers.Dense(1)\n",
    "])\n",
    "model.compile(optimizer='adam', loss='mean_squared_error')\n",
    "model.fit(train_dataset, epochs=50, validation_data=val_dataset)"
   ]
  },
  {
   "cell_type": "code",
   "execution_count": 51,
   "id": "2702fd73-02a8-4730-9e69-e0d3bc22fcd6",
   "metadata": {},
   "outputs": [
    {
     "name": "stdout",
     "output_type": "stream",
     "text": [
      "62/62 [==============================] - 0s 2ms/step - loss: 175981.0938\n",
      "Test Loss: 175981.09375\n"
     ]
    }
   ],
   "source": [
    "test_loss = model.evaluate(test_dataset)\n",
    "\n",
    "# Print the test loss and accuracy\n",
    "print(\"Test Loss:\", test_loss)\n"
   ]
  },
  {
   "cell_type": "code",
   "execution_count": null,
   "id": "c9bc5e6f-3d41-4632-86f7-5ee6794e6311",
   "metadata": {},
   "outputs": [],
   "source": []
  },
  {
   "cell_type": "code",
   "execution_count": null,
   "id": "afa4446d-a287-4398-9c15-c90cef59b9cc",
   "metadata": {},
   "outputs": [],
   "source": []
  }
 ],
 "metadata": {
  "kernelspec": {
   "display_name": "Python 3 (ipykernel)",
   "language": "python",
   "name": "python3"
  },
  "language_info": {
   "codemirror_mode": {
    "name": "ipython",
    "version": 3
   },
   "file_extension": ".py",
   "mimetype": "text/x-python",
   "name": "python",
   "nbconvert_exporter": "python",
   "pygments_lexer": "ipython3",
   "version": "3.11.8"
  }
 },
 "nbformat": 4,
 "nbformat_minor": 5
}
