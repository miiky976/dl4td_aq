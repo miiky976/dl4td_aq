{
 "cells": [
  {
   "cell_type": "markdown",
   "id": "67295f43-a5aa-4076-b745-e3bd5624f86e",
   "metadata": {},
   "source": [
    "# Doing a convolution "
   ]
  },
  {
   "cell_type": "markdown",
   "id": "9e115bd3-17b9-4fdd-972c-7d675ec99fbd",
   "metadata": {},
   "source": [
    "# Generate images"
   ]
  },
  {
   "cell_type": "code",
   "execution_count": 4,
   "id": "14bfeb6f-ad77-4729-914a-8e8802e64c08",
   "metadata": {},
   "outputs": [],
   "source": [
    "# Need to reorder the data for tinto\n",
    "import pandas as pd\n",
    "\n",
    "data = pd.read_csv('DataSet/dataWnmhc.csv')\n",
    "data = data[['datetimestamp', 'T' ,'RH', 'AH', \n",
    "             'PT08.S1(CO)', 'PT08.S2(NMHC)', 'PT08.S3(NOx)', \n",
    "             'PT08.S4(NO2)', 'PT08.S5(O3)', 'CO(GT)']]\n",
    "data.to_csv('DataSet/COdata.csv')"
   ]
  },
  {
   "cell_type": "code",
   "execution_count": 5,
   "id": "79ada8ce-5ec0-485e-a3f1-c9312f10cf0a",
   "metadata": {},
   "outputs": [],
   "source": [
    "from data2Image.models import tinto\n",
    "model = tinto(blur=True)"
   ]
  },
  {
   "cell_type": "code",
   "execution_count": 7,
   "id": "7b5888a3-6568-4435-ba9b-f908756e9160",
   "metadata": {},
   "outputs": [
    {
     "name": "stdout",
     "output_type": "stream",
     "text": [
      "2 4\n"
     ]
    }
   ],
   "source": [
    "model.generateImages('DataSet/COdata.csv', 'imgs/')a"
   ]
  },
  {
   "cell_type": "markdown",
   "id": "aed10bc6-c568-409f-bfa5-eab9214d1713",
   "metadata": {
    "jp-MarkdownHeadingCollapsed": true
   },
   "source": [
    "# Results method"
   ]
  },
  {
   "cell_type": "code",
   "execution_count": 50,
   "id": "a9df8ea5-6415-41cc-8931-5808fee424e7",
   "metadata": {},
   "outputs": [],
   "source": [
    "results = pd.DataFrame(columns=['Model', 'mse', 'mae', 'rmse', 'mape', 'r2'])\n",
    "from sklearn.metrics import mean_squared_error\n",
    "from sklearn.metrics import mean_absolute_error\n",
    "from sklearn.metrics import root_mean_squared_error\n",
    "from sklearn.metrics import mean_absolute_percentage_error\n",
    "from sklearn.metrics import r2_score\n",
    "\n",
    "\n",
    "def appendError(model, testy, y_pred):\n",
    "    model_name = str(type(model).__name__)\n",
    "    mse = mean_squared_error(testy, y_pred)\n",
    "    mae = mean_absolute_error(testy, y_pred)\n",
    "    rmse = root_mean_squared_error(testy, y_pred)\n",
    "    mape = mean_absolute_percentage_error(testy, y_pred)\n",
    "    r2 = r2_score(testy, y_pred)\n",
    "    return pd.DataFrame([{\n",
    "        'Model': model_name,\n",
    "        'mse': mse, \n",
    "        'mae': mae, \n",
    "        'mae': mae, \n",
    "        'rmse': rmse, \n",
    "        'mape': mape, \n",
    "        'r2': r2\n",
    "    }])"
   ]
  },
  {
   "cell_type": "code",
   "execution_count": null,
   "id": "521e12ea-8b68-4fae-a403-c0624e99e3d2",
   "metadata": {},
   "outputs": [],
   "source": []
  },
  {
   "cell_type": "markdown",
   "id": "3735add4-6f2f-46b6-8c55-3ba7f3c76403",
   "metadata": {},
   "source": [
    "# Create a conv model"
   ]
  },
  {
   "cell_type": "code",
   "execution_count": 9,
   "id": "90d0a662-0f60-4ce3-9888-426779ae8d09",
   "metadata": {},
   "outputs": [
    {
     "name": "stderr",
     "output_type": "stream",
     "text": [
      "2024-03-29 12:53:18.974370: I external/local_tsl/tsl/cuda/cudart_stub.cc:31] Could not find cuda drivers on your machine, GPU will not be used.\n",
      "2024-03-29 12:53:19.026337: E external/local_xla/xla/stream_executor/cuda/cuda_dnn.cc:9261] Unable to register cuDNN factory: Attempting to register factory for plugin cuDNN when one has already been registered\n",
      "2024-03-29 12:53:19.026385: E external/local_xla/xla/stream_executor/cuda/cuda_fft.cc:607] Unable to register cuFFT factory: Attempting to register factory for plugin cuFFT when one has already been registered\n",
      "2024-03-29 12:53:19.027716: E external/local_xla/xla/stream_executor/cuda/cuda_blas.cc:1515] Unable to register cuBLAS factory: Attempting to register factory for plugin cuBLAS when one has already been registered\n",
      "2024-03-29 12:53:19.037500: I external/local_tsl/tsl/cuda/cudart_stub.cc:31] Could not find cuda drivers on your machine, GPU will not be used.\n",
      "2024-03-29 12:53:19.038026: I tensorflow/core/platform/cpu_feature_guard.cc:182] This TensorFlow binary is optimized to use available CPU instructions in performance-critical operations.\n",
      "To enable the following instructions: AVX2 FMA, in other operations, rebuild TensorFlow with the appropriate compiler flags.\n",
      "2024-03-29 12:53:20.517423: W tensorflow/compiler/tf2tensorrt/utils/py_utils.cc:38] TF-TRT Warning: Could not find TensorRT\n"
     ]
    }
   ],
   "source": [
    "import os\n",
    "from tensorflow.keras.preprocessing.image import load_img, img_to_array"
   ]
  },
  {
   "cell_type": "markdown",
   "id": "d524da01-de52-4123-abb2-e89eba504f65",
   "metadata": {},
   "source": [
    "## Prepare the data"
   ]
  },
  {
   "cell_type": "code",
   "execution_count": 10,
   "id": "51467685-9b70-451c-bd11-21de0b19763c",
   "metadata": {},
   "outputs": [],
   "source": [
    "def preprocess_image(image_path):\n",
    "    img = load_img(image_path)\n",
    "    \n",
    "    img_array = img_to_array(img)\n",
    "    \n",
    "    return img_array\n"
   ]
  },
  {
   "cell_type": "code",
   "execution_count": 26,
   "id": "dffd9f7e-ff9f-4309-ade4-6fe8d575b6c4",
   "metadata": {
    "scrolled": true
   },
   "outputs": [],
   "source": [
    "import numpy as np\n",
    "images = []\n",
    "target = data['CO(GT)']\n",
    "\n",
    "# get all the images (i dont know too much about this process)\n",
    "for folder in os.listdir('imgs'):\n",
    "    for image in os.listdir(os.path.join('imgs', folder)):\n",
    "        img = preprocess_image(os.path.join('imgs', folder, image))\n",
    "        images.append(img)\n",
    "\n",
    "images = np.array(images)\n",
    "target = np.array(target)"
   ]
  },
  {
   "cell_type": "code",
   "execution_count": 27,
   "id": "8d573c2d-cd37-4f8f-83d2-0cd92922d9ec",
   "metadata": {
    "scrolled": true
   },
   "outputs": [],
   "source": [
    "from sklearn.model_selection import train_test_split\n",
    "\n",
    "X_train, X_test, y_train, y_test = train_test_split(images, target, test_size=0.2, random_state=42)\n",
    "X_train, X_val, y_train, y_val = train_test_split(X_train, y_train, test_size=0.2, random_state=42)"
   ]
  },
  {
   "cell_type": "markdown",
   "id": "2ad566d4-517a-492a-a560-f9d7493defec",
   "metadata": {},
   "source": [
    "## Define the model"
   ]
  },
  {
   "cell_type": "code",
   "execution_count": 28,
   "id": "8636e79c-e2d0-4e90-a72d-2ce93d288d18",
   "metadata": {},
   "outputs": [],
   "source": [
    "import tensorflow as tf\n",
    "from tensorflow.keras import layers, models"
   ]
  },
  {
   "cell_type": "code",
   "execution_count": 53,
   "id": "ce822774-bd40-48b1-8a9a-ad5c2c867909",
   "metadata": {},
   "outputs": [
    {
     "name": "stdout",
     "output_type": "stream",
     "text": [
      "Epoch 1/50\n",
      "131/131 [==============================] - 3s 10ms/step - loss: 2.8636 - val_loss: 2.1848\n",
      "Epoch 2/50\n",
      "131/131 [==============================] - 1s 9ms/step - loss: 2.2072 - val_loss: 2.0428\n",
      "Epoch 3/50\n",
      "131/131 [==============================] - 1s 9ms/step - loss: 2.0832 - val_loss: 1.9517\n",
      "Epoch 4/50\n",
      "131/131 [==============================] - 1s 8ms/step - loss: 1.9913 - val_loss: 1.8868\n",
      "Epoch 5/50\n",
      "131/131 [==============================] - 1s 9ms/step - loss: 1.9159 - val_loss: 1.8258\n",
      "Epoch 6/50\n",
      "131/131 [==============================] - 1s 10ms/step - loss: 1.8499 - val_loss: 1.7754\n",
      "Epoch 7/50\n",
      "131/131 [==============================] - 1s 11ms/step - loss: 1.8066 - val_loss: 1.7603\n",
      "Epoch 8/50\n",
      "131/131 [==============================] - 2s 12ms/step - loss: 1.7742 - val_loss: 1.7000\n",
      "Epoch 9/50\n",
      "131/131 [==============================] - 1s 11ms/step - loss: 1.7286 - val_loss: 1.6684\n",
      "Epoch 10/50\n",
      "131/131 [==============================] - 1s 11ms/step - loss: 1.7009 - val_loss: 1.6423\n",
      "Epoch 11/50\n",
      "131/131 [==============================] - 1s 11ms/step - loss: 1.6764 - val_loss: 1.6296\n",
      "Epoch 12/50\n",
      "131/131 [==============================] - 1s 11ms/step - loss: 1.6473 - val_loss: 1.5978\n",
      "Epoch 13/50\n",
      "131/131 [==============================] - 2s 12ms/step - loss: 1.6273 - val_loss: 1.5783\n",
      "Epoch 14/50\n",
      "131/131 [==============================] - 2s 17ms/step - loss: 1.6141 - val_loss: 1.5641\n",
      "Epoch 15/50\n",
      "131/131 [==============================] - 3s 20ms/step - loss: 1.5947 - val_loss: 1.5461\n",
      "Epoch 16/50\n",
      "131/131 [==============================] - 3s 23ms/step - loss: 1.5828 - val_loss: 1.5321\n",
      "Epoch 17/50\n",
      "131/131 [==============================] - 3s 21ms/step - loss: 1.5649 - val_loss: 1.5241\n",
      "Epoch 18/50\n",
      "131/131 [==============================] - 3s 20ms/step - loss: 1.5573 - val_loss: 1.5093\n",
      "Epoch 19/50\n",
      "131/131 [==============================] - 3s 19ms/step - loss: 1.5439 - val_loss: 1.4993\n",
      "Epoch 20/50\n",
      "131/131 [==============================] - 2s 18ms/step - loss: 1.5322 - val_loss: 1.4913\n",
      "Epoch 21/50\n",
      "131/131 [==============================] - 3s 20ms/step - loss: 1.5266 - val_loss: 1.4849\n",
      "Epoch 22/50\n",
      "131/131 [==============================] - 3s 20ms/step - loss: 1.5182 - val_loss: 1.4739\n",
      "Epoch 23/50\n",
      "131/131 [==============================] - 2s 19ms/step - loss: 1.5114 - val_loss: 1.4669\n",
      "Epoch 24/50\n",
      "131/131 [==============================] - 2s 18ms/step - loss: 1.5038 - val_loss: 1.4604\n",
      "Epoch 25/50\n",
      "131/131 [==============================] - 2s 16ms/step - loss: 1.4954 - val_loss: 1.4568\n",
      "Epoch 26/50\n",
      "131/131 [==============================] - 3s 19ms/step - loss: 1.4868 - val_loss: 1.4498\n",
      "Epoch 27/50\n",
      "131/131 [==============================] - 2s 18ms/step - loss: 1.4860 - val_loss: 1.4465\n",
      "Epoch 28/50\n",
      "131/131 [==============================] - 2s 16ms/step - loss: 1.4823 - val_loss: 1.4422\n",
      "Epoch 29/50\n",
      "131/131 [==============================] - 2s 16ms/step - loss: 1.4777 - val_loss: 1.4394\n",
      "Epoch 30/50\n",
      "131/131 [==============================] - 2s 19ms/step - loss: 1.4739 - val_loss: 1.4385\n",
      "Epoch 31/50\n",
      "131/131 [==============================] - 3s 21ms/step - loss: 1.4694 - val_loss: 1.4302\n",
      "Epoch 32/50\n",
      "131/131 [==============================] - 2s 16ms/step - loss: 1.4689 - val_loss: 1.4280\n",
      "Epoch 33/50\n",
      "131/131 [==============================] - 2s 18ms/step - loss: 1.4639 - val_loss: 1.4253\n",
      "Epoch 34/50\n",
      "131/131 [==============================] - 3s 19ms/step - loss: 1.4613 - val_loss: 1.4301\n",
      "Epoch 35/50\n",
      "131/131 [==============================] - 3s 22ms/step - loss: 1.4594 - val_loss: 1.4205\n",
      "Epoch 36/50\n",
      "131/131 [==============================] - 2s 19ms/step - loss: 1.4570 - val_loss: 1.4195\n",
      "Epoch 37/50\n",
      "131/131 [==============================] - 2s 16ms/step - loss: 1.4555 - val_loss: 1.4184\n",
      "Epoch 38/50\n",
      "131/131 [==============================] - 2s 13ms/step - loss: 1.4514 - val_loss: 1.4188\n",
      "Epoch 39/50\n",
      "131/131 [==============================] - 2s 13ms/step - loss: 1.4522 - val_loss: 1.4142\n",
      "Epoch 40/50\n",
      "131/131 [==============================] - 2s 12ms/step - loss: 1.4494 - val_loss: 1.4170\n",
      "Epoch 41/50\n",
      "131/131 [==============================] - 2s 15ms/step - loss: 1.4506 - val_loss: 1.4124\n",
      "Epoch 42/50\n",
      "131/131 [==============================] - 2s 13ms/step - loss: 1.4492 - val_loss: 1.4132\n",
      "Epoch 43/50\n",
      "131/131 [==============================] - 1s 8ms/step - loss: 1.4489 - val_loss: 1.4111\n",
      "Epoch 44/50\n",
      "131/131 [==============================] - 1s 10ms/step - loss: 1.4462 - val_loss: 1.4128\n",
      "Epoch 45/50\n",
      "131/131 [==============================] - 1s 11ms/step - loss: 1.4435 - val_loss: 1.4086\n",
      "Epoch 46/50\n",
      "131/131 [==============================] - 2s 15ms/step - loss: 1.4448 - val_loss: 1.4105\n",
      "Epoch 47/50\n",
      "131/131 [==============================] - 2s 18ms/step - loss: 1.4454 - val_loss: 1.4091\n",
      "Epoch 48/50\n",
      "131/131 [==============================] - 2s 15ms/step - loss: 1.4443 - val_loss: 1.4115\n",
      "Epoch 49/50\n",
      "131/131 [==============================] - 2s 19ms/step - loss: 1.4440 - val_loss: 1.4064\n",
      "Epoch 50/50\n",
      "131/131 [==============================] - 3s 22ms/step - loss: 1.4434 - val_loss: 1.4061\n"
     ]
    },
    {
     "data": {
      "text/plain": [
       "<keras.src.callbacks.History at 0x79a41abcf690>"
      ]
     },
     "execution_count": 53,
     "metadata": {},
     "output_type": "execute_result"
    }
   ],
   "source": [
    "model = models.Sequential([\n",
    "    layers.Input(shape=images.shape[1:]),\n",
    "    layers.Conv2D(8, (5,5), activation='relu'),\n",
    "    layers.Conv2D(8, (3,3), activation='relu'),\n",
    "    layers.MaxPooling2D((2,2)),\n",
    "    layers.Conv2D(16, (3,3), activation='relu'),\n",
    "    layers.Conv2D(16, (2,2), activation='relu'),\n",
    "    layers.Flatten(),\n",
    "    layers.Dense(32, activation='relu', kernel_regularizer=tf.keras.regularizers.l2(0.01)),\n",
    "    layers.Dense(8, activation='sigmoid', kernel_regularizer=tf.keras.regularizers.l2(0.01)),\n",
    "    layers.Dropout(0.2),\n",
    "    layers.Dense(16, activation='relu', kernel_regularizer=tf.keras.regularizers.l2(0.01)),\n",
    "    layers.Dropout(0.2),\n",
    "    layers.Dense(32, activation='elu', kernel_regularizer=tf.keras.regularizers.l2(0.01)),\n",
    "    layers.Dropout(0.2),\n",
    "    layers.Dense(16, activation='relu', kernel_regularizer=tf.keras.regularizers.l2(0.01)),\n",
    "    layers.Dense(8, activation='selu', kernel_regularizer=tf.keras.regularizers.l2(0.01)),\n",
    "    layers.Dense(1)\n",
    "])\n",
    "model.compile(optimizer='adam', loss='mean_squared_error')\n",
    "model.fit(X_train, y_train, epochs=50, batch_size=32, validation_data=(X_val, y_val))"
   ]
  },
  {
   "cell_type": "code",
   "execution_count": 54,
   "id": "bb0fa367-a13d-47ce-9587-0c212f354206",
   "metadata": {},
   "outputs": [
    {
     "name": "stdout",
     "output_type": "stream",
     "text": [
      "41/41 [==============================] - 0s 8ms/step\n"
     ]
    }
   ],
   "source": [
    "from sklearn.metrics import mean_squared_error\n",
    "y_pred = model.predict(X_test)\n",
    "results = pd.concat([results, appendError(model, y_test, y_pred)])"
   ]
  },
  {
   "cell_type": "code",
   "execution_count": 55,
   "id": "ff19f918-c915-42d5-a92e-5f3da829748d",
   "metadata": {},
   "outputs": [
    {
     "data": {
      "text/html": [
       "<div>\n",
       "<style scoped>\n",
       "    .dataframe tbody tr th:only-of-type {\n",
       "        vertical-align: middle;\n",
       "    }\n",
       "\n",
       "    .dataframe tbody tr th {\n",
       "        vertical-align: top;\n",
       "    }\n",
       "\n",
       "    .dataframe thead th {\n",
       "        text-align: right;\n",
       "    }\n",
       "</style>\n",
       "<table border=\"1\" class=\"dataframe\">\n",
       "  <thead>\n",
       "    <tr style=\"text-align: right;\">\n",
       "      <th></th>\n",
       "      <th>Model</th>\n",
       "      <th>mse</th>\n",
       "      <th>mae</th>\n",
       "      <th>rmse</th>\n",
       "      <th>mape</th>\n",
       "      <th>r2</th>\n",
       "    </tr>\n",
       "  </thead>\n",
       "  <tbody>\n",
       "    <tr>\n",
       "      <th>0</th>\n",
       "      <td>Sequential</td>\n",
       "      <td>1.366697</td>\n",
       "      <td>0.936868</td>\n",
       "      <td>1.169058</td>\n",
       "      <td>0.801673</td>\n",
       "      <td>0.003857</td>\n",
       "    </tr>\n",
       "    <tr>\n",
       "      <th>0</th>\n",
       "      <td>Sequential</td>\n",
       "      <td>1.372069</td>\n",
       "      <td>0.946211</td>\n",
       "      <td>1.171353</td>\n",
       "      <td>0.827817</td>\n",
       "      <td>-0.000058</td>\n",
       "    </tr>\n",
       "  </tbody>\n",
       "</table>\n",
       "</div>"
      ],
      "text/plain": [
       "        Model       mse       mae      rmse      mape        r2\n",
       "0  Sequential  1.366697  0.936868  1.169058  0.801673  0.003857\n",
       "0  Sequential  1.372069  0.946211  1.171353  0.827817 -0.000058"
      ]
     },
     "execution_count": 55,
     "metadata": {},
     "output_type": "execute_result"
    }
   ],
   "source": [
    "results"
   ]
  },
  {
   "cell_type": "code",
   "execution_count": null,
   "id": "8b1c3f06-d6fc-443b-a354-5203d255c30b",
   "metadata": {},
   "outputs": [],
   "source": []
  }
 ],
 "metadata": {
  "kernelspec": {
   "display_name": "Python 3 (ipykernel)",
   "language": "python",
   "name": "python3"
  },
  "language_info": {
   "codemirror_mode": {
    "name": "ipython",
    "version": 3
   },
   "file_extension": ".py",
   "mimetype": "text/x-python",
   "name": "python",
   "nbconvert_exporter": "python",
   "pygments_lexer": "ipython3",
   "version": "3.12.3"
  }
 },
 "nbformat": 4,
 "nbformat_minor": 5
}
